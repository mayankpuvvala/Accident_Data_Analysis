{
 "cells": [
  {
   "cell_type": "code",
   "execution_count": 1,
   "metadata": {
    "_cell_guid": "b1076dfc-b9ad-4769-8c92-a6c4dae69d19",
    "_uuid": "8f2839f25d086af736a60e9eeb907d3b93b6e0e5",
    "execution": {
     "iopub.execute_input": "2024-04-10T20:35:53.962611Z",
     "iopub.status.busy": "2024-04-10T20:35:53.962193Z",
     "iopub.status.idle": "2024-04-10T20:35:54.942383Z",
     "shell.execute_reply": "2024-04-10T20:35:54.941309Z",
     "shell.execute_reply.started": "2024-04-10T20:35:53.962577Z"
    }
   },
   "outputs": [],
   "source": [
    "# This Python 3 environment comes with many helpful analytics libraries installed\n",
    "# It is defined by the kaggle/python Docker image: https://github.com/kaggle/docker-python\n",
    "# For example, here's several helpful packages to load\n",
    "\n",
    "import numpy as np # linear algebra\n",
    "import pandas as pd # data processing, CSV file I/O (e.g. pd.read_csv)\n",
    "\n",
    "# Input data files are available in the read-only \"../input/\" directory\n",
    "# For example, running this (by clicking run or pressing Shift+Enter) will list all files under the input directory\n",
    "\n",
    "import os\n",
    "for dirname, _, filenames in os.walk('/kaggle/input'):\n",
    "    for filename in filenames:\n",
    "        print(os.path.join(dirname, filename))\n",
    "\n",
    "# You can write up to 20GB to the current directory (/kaggle/working/) that gets preserved as output when you create a version using \"Save & Run All\" \n",
    "# You can also write temporary files to /kaggle/temp/, but they won't be saved outside of the current session"
   ]
  },
  {
   "cell_type": "code",
   "execution_count": 2,
   "metadata": {
    "execution": {
     "iopub.execute_input": "2024-04-10T20:35:54.944671Z",
     "iopub.status.busy": "2024-04-10T20:35:54.944219Z",
     "iopub.status.idle": "2024-04-10T20:36:23.070292Z",
     "shell.execute_reply": "2024-04-10T20:36:23.069167Z",
     "shell.execute_reply.started": "2024-04-10T20:35:54.944634Z"
    }
   },
   "outputs": [
    {
     "name": "stderr",
     "output_type": "stream",
     "text": [
      "C:\\Users\\Ansh\\AppData\\Local\\Temp\\ipykernel_11960\\3542241665.py:1: DtypeWarning: Columns (19,20) have mixed types. Specify dtype option on import or set low_memory=False.\n",
      "  df= pd.read_csv('Copy of FIR_Details_Data.csv')\n"
     ]
    },
    {
     "data": {
      "text/html": [
       "<div>\n",
       "<style scoped>\n",
       "    .dataframe tbody tr th:only-of-type {\n",
       "        vertical-align: middle;\n",
       "    }\n",
       "\n",
       "    .dataframe tbody tr th {\n",
       "        vertical-align: top;\n",
       "    }\n",
       "\n",
       "    .dataframe thead th {\n",
       "        text-align: right;\n",
       "    }\n",
       "</style>\n",
       "<table border=\"1\" class=\"dataframe\">\n",
       "  <thead>\n",
       "    <tr style=\"text-align: right;\">\n",
       "      <th></th>\n",
       "      <th>District_Name</th>\n",
       "      <th>UnitName</th>\n",
       "      <th>FIRNo</th>\n",
       "      <th>RI</th>\n",
       "      <th>Year</th>\n",
       "      <th>Month</th>\n",
       "      <th>Offence_From_Date</th>\n",
       "      <th>Offence_To_Date</th>\n",
       "      <th>FIR_Reg_DateTime</th>\n",
       "      <th>FIR_Date</th>\n",
       "      <th>...</th>\n",
       "      <th>VICTIM COUNT</th>\n",
       "      <th>Accused Count</th>\n",
       "      <th>Arrested Male</th>\n",
       "      <th>Arrested Female</th>\n",
       "      <th>Arrested Count\\tNo.</th>\n",
       "      <th>Accused_ChargeSheeted Count</th>\n",
       "      <th>Conviction Count</th>\n",
       "      <th>FIR_ID</th>\n",
       "      <th>Unit_ID</th>\n",
       "      <th>Crime_No</th>\n",
       "    </tr>\n",
       "  </thead>\n",
       "  <tbody>\n",
       "    <tr>\n",
       "      <th>0</th>\n",
       "      <td>Bagalkot</td>\n",
       "      <td>Amengad PS</td>\n",
       "      <td>0001/2016</td>\n",
       "      <td>1</td>\n",
       "      <td>2016</td>\n",
       "      <td>1</td>\n",
       "      <td>2015-12-27 12:00:00.000</td>\n",
       "      <td>2015-12-27 12:05:00.000</td>\n",
       "      <td>2016-01-05 11:00:00.000</td>\n",
       "      <td>05/01/2016</td>\n",
       "      <td>...</td>\n",
       "      <td>0</td>\n",
       "      <td>1</td>\n",
       "      <td>1</td>\n",
       "      <td>0</td>\n",
       "      <td>1</td>\n",
       "      <td>1</td>\n",
       "      <td>0</td>\n",
       "      <td>2016000002</td>\n",
       "      <td>1245</td>\n",
       "      <td>10470124520160001</td>\n",
       "    </tr>\n",
       "    <tr>\n",
       "      <th>1</th>\n",
       "      <td>Bagalkot</td>\n",
       "      <td>Amengad PS</td>\n",
       "      <td>0002/2016</td>\n",
       "      <td>1</td>\n",
       "      <td>2016</td>\n",
       "      <td>1</td>\n",
       "      <td>2016-01-12 17:30:00.000</td>\n",
       "      <td>2016-01-12 17:35:00.000</td>\n",
       "      <td>2016-01-12 19:00:00.000</td>\n",
       "      <td>12/01/2016</td>\n",
       "      <td>...</td>\n",
       "      <td>0</td>\n",
       "      <td>5</td>\n",
       "      <td>5</td>\n",
       "      <td>0</td>\n",
       "      <td>5</td>\n",
       "      <td>5</td>\n",
       "      <td>2</td>\n",
       "      <td>2016000003</td>\n",
       "      <td>1245</td>\n",
       "      <td>10470124520160002</td>\n",
       "    </tr>\n",
       "    <tr>\n",
       "      <th>2</th>\n",
       "      <td>Bagalkot</td>\n",
       "      <td>Amengad PS</td>\n",
       "      <td>0003/2016</td>\n",
       "      <td>1</td>\n",
       "      <td>2016</td>\n",
       "      <td>1</td>\n",
       "      <td>2016-01-12 17:45:00.000</td>\n",
       "      <td>2016-01-12 17:50:00.000</td>\n",
       "      <td>2016-01-12 19:30:00.000</td>\n",
       "      <td>12/01/2016</td>\n",
       "      <td>...</td>\n",
       "      <td>0</td>\n",
       "      <td>1</td>\n",
       "      <td>1</td>\n",
       "      <td>0</td>\n",
       "      <td>1</td>\n",
       "      <td>1</td>\n",
       "      <td>0</td>\n",
       "      <td>2016000004</td>\n",
       "      <td>1245</td>\n",
       "      <td>10470124520160003</td>\n",
       "    </tr>\n",
       "    <tr>\n",
       "      <th>3</th>\n",
       "      <td>Bagalkot</td>\n",
       "      <td>Amengad PS</td>\n",
       "      <td>0004/2016</td>\n",
       "      <td>1</td>\n",
       "      <td>2016</td>\n",
       "      <td>1</td>\n",
       "      <td>2016-01-14 21:30:00.000</td>\n",
       "      <td>2016-01-14 21:35:00.000</td>\n",
       "      <td>2016-01-15 14:00:00.000</td>\n",
       "      <td>15/01/2016</td>\n",
       "      <td>...</td>\n",
       "      <td>0</td>\n",
       "      <td>1</td>\n",
       "      <td>1</td>\n",
       "      <td>0</td>\n",
       "      <td>1</td>\n",
       "      <td>1</td>\n",
       "      <td>0</td>\n",
       "      <td>2016000005</td>\n",
       "      <td>1245</td>\n",
       "      <td>10470124520160004</td>\n",
       "    </tr>\n",
       "    <tr>\n",
       "      <th>4</th>\n",
       "      <td>Bagalkot</td>\n",
       "      <td>Amengad PS</td>\n",
       "      <td>0005/2016</td>\n",
       "      <td>1</td>\n",
       "      <td>2016</td>\n",
       "      <td>1</td>\n",
       "      <td>2016-01-18 15:00:00.000</td>\n",
       "      <td>2016-01-18 15:05:00.000</td>\n",
       "      <td>2016-01-18 19:30:00.000</td>\n",
       "      <td>18/01/2016</td>\n",
       "      <td>...</td>\n",
       "      <td>0</td>\n",
       "      <td>1</td>\n",
       "      <td>1</td>\n",
       "      <td>0</td>\n",
       "      <td>1</td>\n",
       "      <td>1</td>\n",
       "      <td>0</td>\n",
       "      <td>2016000006</td>\n",
       "      <td>1245</td>\n",
       "      <td>10470124520160005</td>\n",
       "    </tr>\n",
       "  </tbody>\n",
       "</table>\n",
       "<p>5 rows × 41 columns</p>\n",
       "</div>"
      ],
      "text/plain": [
       "  District_Name    UnitName      FIRNo  RI  Year  Month  \\\n",
       "0      Bagalkot  Amengad PS  0001/2016   1  2016      1   \n",
       "1      Bagalkot  Amengad PS  0002/2016   1  2016      1   \n",
       "2      Bagalkot  Amengad PS  0003/2016   1  2016      1   \n",
       "3      Bagalkot  Amengad PS  0004/2016   1  2016      1   \n",
       "4      Bagalkot  Amengad PS  0005/2016   1  2016      1   \n",
       "\n",
       "         Offence_From_Date          Offence_To_Date         FIR_Reg_DateTime  \\\n",
       "0  2015-12-27 12:00:00.000  2015-12-27 12:05:00.000  2016-01-05 11:00:00.000   \n",
       "1  2016-01-12 17:30:00.000  2016-01-12 17:35:00.000  2016-01-12 19:00:00.000   \n",
       "2  2016-01-12 17:45:00.000  2016-01-12 17:50:00.000  2016-01-12 19:30:00.000   \n",
       "3  2016-01-14 21:30:00.000  2016-01-14 21:35:00.000  2016-01-15 14:00:00.000   \n",
       "4  2016-01-18 15:00:00.000  2016-01-18 15:05:00.000  2016-01-18 19:30:00.000   \n",
       "\n",
       "     FIR_Date  ... VICTIM COUNT Accused Count Arrested Male Arrested Female  \\\n",
       "0  05/01/2016  ...            0             1             1               0   \n",
       "1  12/01/2016  ...            0             5             5               0   \n",
       "2  12/01/2016  ...            0             1             1               0   \n",
       "3  15/01/2016  ...            0             1             1               0   \n",
       "4  18/01/2016  ...            0             1             1               0   \n",
       "\n",
       "  Arrested Count\\tNo.  Accused_ChargeSheeted Count  Conviction Count  \\\n",
       "0                   1                            1                 0   \n",
       "1                   5                            5                 2   \n",
       "2                   1                            1                 0   \n",
       "3                   1                            1                 0   \n",
       "4                   1                            1                 0   \n",
       "\n",
       "       FIR_ID Unit_ID           Crime_No  \n",
       "0  2016000002    1245  10470124520160001  \n",
       "1  2016000003    1245  10470124520160002  \n",
       "2  2016000004    1245  10470124520160003  \n",
       "3  2016000005    1245  10470124520160004  \n",
       "4  2016000006    1245  10470124520160005  \n",
       "\n",
       "[5 rows x 41 columns]"
      ]
     },
     "execution_count": 2,
     "metadata": {},
     "output_type": "execute_result"
    }
   ],
   "source": [
    "df= pd.read_csv('Copy of FIR_Details_Data.csv')\n",
    "df.head()"
   ]
  },
  {
   "cell_type": "code",
   "execution_count": 3,
   "metadata": {
    "execution": {
     "iopub.execute_input": "2024-04-10T20:36:23.071940Z",
     "iopub.status.busy": "2024-04-10T20:36:23.071601Z",
     "iopub.status.idle": "2024-04-10T20:36:23.079698Z",
     "shell.execute_reply": "2024-04-10T20:36:23.078493Z",
     "shell.execute_reply.started": "2024-04-10T20:36:23.071911Z"
    }
   },
   "outputs": [
    {
     "data": {
      "text/plain": [
       "Index(['District_Name', 'UnitName', 'FIRNo', 'RI', 'Year', 'Month',\n",
       "       'Offence_From_Date', 'Offence_To_Date', 'FIR_Reg_DateTime', 'FIR_Date',\n",
       "       'FIR Type', 'FIR_Stage', 'Complaint_Mode', 'CrimeGroup_Name',\n",
       "       'CrimeHead_Name', 'Latitude', 'Longitude', 'ActSection', 'IOName',\n",
       "       'KGID', 'IOAssigned_Date', 'Internal_IO', 'Place of Offence',\n",
       "       'Distance from PS', 'Beat_Name', 'Village_Area_Name', 'Male', 'Female',\n",
       "       'Boy', 'Girl', 'Age 0', 'VICTIM COUNT', 'Accused Count',\n",
       "       'Arrested Male', 'Arrested Female', 'Arrested Count\\tNo.',\n",
       "       'Accused_ChargeSheeted Count', 'Conviction Count', 'FIR_ID', 'Unit_ID',\n",
       "       'Crime_No'],\n",
       "      dtype='object')"
      ]
     },
     "execution_count": 3,
     "metadata": {},
     "output_type": "execute_result"
    }
   ],
   "source": [
    "df.columns"
   ]
  },
  {
   "cell_type": "code",
   "execution_count": 4,
   "metadata": {
    "execution": {
     "iopub.execute_input": "2024-04-10T20:36:23.082670Z",
     "iopub.status.busy": "2024-04-10T20:36:23.082215Z",
     "iopub.status.idle": "2024-04-10T20:36:24.594131Z",
     "shell.execute_reply": "2024-04-10T20:36:24.593021Z",
     "shell.execute_reply.started": "2024-04-10T20:36:23.082613Z"
    }
   },
   "outputs": [
    {
     "data": {
      "text/html": [
       "<div>\n",
       "<style scoped>\n",
       "    .dataframe tbody tr th:only-of-type {\n",
       "        vertical-align: middle;\n",
       "    }\n",
       "\n",
       "    .dataframe tbody tr th {\n",
       "        vertical-align: top;\n",
       "    }\n",
       "\n",
       "    .dataframe thead th {\n",
       "        text-align: right;\n",
       "    }\n",
       "</style>\n",
       "<table border=\"1\" class=\"dataframe\">\n",
       "  <thead>\n",
       "    <tr style=\"text-align: right;\">\n",
       "      <th></th>\n",
       "      <th>District_Name</th>\n",
       "      <th>UnitName</th>\n",
       "      <th>RI</th>\n",
       "      <th>Year</th>\n",
       "      <th>Month</th>\n",
       "      <th>Offence_From_Date</th>\n",
       "      <th>Offence_To_Date</th>\n",
       "      <th>FIR_Reg_DateTime</th>\n",
       "      <th>FIR_Date</th>\n",
       "      <th>FIR Type</th>\n",
       "      <th>...</th>\n",
       "      <th>Boy</th>\n",
       "      <th>Girl</th>\n",
       "      <th>Age 0</th>\n",
       "      <th>VICTIM COUNT</th>\n",
       "      <th>Accused Count</th>\n",
       "      <th>Arrested Male</th>\n",
       "      <th>Arrested Female</th>\n",
       "      <th>Arrested Count\\tNo.</th>\n",
       "      <th>Accused_ChargeSheeted Count</th>\n",
       "      <th>Conviction Count</th>\n",
       "    </tr>\n",
       "  </thead>\n",
       "  <tbody>\n",
       "    <tr>\n",
       "      <th>0</th>\n",
       "      <td>Bagalkot</td>\n",
       "      <td>Amengad PS</td>\n",
       "      <td>1</td>\n",
       "      <td>2016</td>\n",
       "      <td>1</td>\n",
       "      <td>2015-12-27 12:00:00.000</td>\n",
       "      <td>2015-12-27 12:05:00.000</td>\n",
       "      <td>2016-01-05 11:00:00.000</td>\n",
       "      <td>05/01/2016</td>\n",
       "      <td>Non Heinous</td>\n",
       "      <td>...</td>\n",
       "      <td>0</td>\n",
       "      <td>1</td>\n",
       "      <td>0</td>\n",
       "      <td>0</td>\n",
       "      <td>1</td>\n",
       "      <td>1</td>\n",
       "      <td>0</td>\n",
       "      <td>1</td>\n",
       "      <td>1</td>\n",
       "      <td>0</td>\n",
       "    </tr>\n",
       "    <tr>\n",
       "      <th>1</th>\n",
       "      <td>Bagalkot</td>\n",
       "      <td>Amengad PS</td>\n",
       "      <td>1</td>\n",
       "      <td>2016</td>\n",
       "      <td>1</td>\n",
       "      <td>2016-01-12 17:30:00.000</td>\n",
       "      <td>2016-01-12 17:35:00.000</td>\n",
       "      <td>2016-01-12 19:00:00.000</td>\n",
       "      <td>12/01/2016</td>\n",
       "      <td>Non Heinous</td>\n",
       "      <td>...</td>\n",
       "      <td>0</td>\n",
       "      <td>0</td>\n",
       "      <td>0</td>\n",
       "      <td>0</td>\n",
       "      <td>5</td>\n",
       "      <td>5</td>\n",
       "      <td>0</td>\n",
       "      <td>5</td>\n",
       "      <td>5</td>\n",
       "      <td>2</td>\n",
       "    </tr>\n",
       "    <tr>\n",
       "      <th>2</th>\n",
       "      <td>Bagalkot</td>\n",
       "      <td>Amengad PS</td>\n",
       "      <td>1</td>\n",
       "      <td>2016</td>\n",
       "      <td>1</td>\n",
       "      <td>2016-01-12 17:45:00.000</td>\n",
       "      <td>2016-01-12 17:50:00.000</td>\n",
       "      <td>2016-01-12 19:30:00.000</td>\n",
       "      <td>12/01/2016</td>\n",
       "      <td>Non Heinous</td>\n",
       "      <td>...</td>\n",
       "      <td>0</td>\n",
       "      <td>0</td>\n",
       "      <td>0</td>\n",
       "      <td>0</td>\n",
       "      <td>1</td>\n",
       "      <td>1</td>\n",
       "      <td>0</td>\n",
       "      <td>1</td>\n",
       "      <td>1</td>\n",
       "      <td>0</td>\n",
       "    </tr>\n",
       "    <tr>\n",
       "      <th>3</th>\n",
       "      <td>Bagalkot</td>\n",
       "      <td>Amengad PS</td>\n",
       "      <td>1</td>\n",
       "      <td>2016</td>\n",
       "      <td>1</td>\n",
       "      <td>2016-01-14 21:30:00.000</td>\n",
       "      <td>2016-01-14 21:35:00.000</td>\n",
       "      <td>2016-01-15 14:00:00.000</td>\n",
       "      <td>15/01/2016</td>\n",
       "      <td>Non Heinous</td>\n",
       "      <td>...</td>\n",
       "      <td>0</td>\n",
       "      <td>0</td>\n",
       "      <td>1</td>\n",
       "      <td>0</td>\n",
       "      <td>1</td>\n",
       "      <td>1</td>\n",
       "      <td>0</td>\n",
       "      <td>1</td>\n",
       "      <td>1</td>\n",
       "      <td>0</td>\n",
       "    </tr>\n",
       "    <tr>\n",
       "      <th>4</th>\n",
       "      <td>Bagalkot</td>\n",
       "      <td>Amengad PS</td>\n",
       "      <td>1</td>\n",
       "      <td>2016</td>\n",
       "      <td>1</td>\n",
       "      <td>2016-01-18 15:00:00.000</td>\n",
       "      <td>2016-01-18 15:05:00.000</td>\n",
       "      <td>2016-01-18 19:30:00.000</td>\n",
       "      <td>18/01/2016</td>\n",
       "      <td>Heinous</td>\n",
       "      <td>...</td>\n",
       "      <td>0</td>\n",
       "      <td>0</td>\n",
       "      <td>0</td>\n",
       "      <td>0</td>\n",
       "      <td>1</td>\n",
       "      <td>1</td>\n",
       "      <td>0</td>\n",
       "      <td>1</td>\n",
       "      <td>1</td>\n",
       "      <td>0</td>\n",
       "    </tr>\n",
       "    <tr>\n",
       "      <th>...</th>\n",
       "      <td>...</td>\n",
       "      <td>...</td>\n",
       "      <td>...</td>\n",
       "      <td>...</td>\n",
       "      <td>...</td>\n",
       "      <td>...</td>\n",
       "      <td>...</td>\n",
       "      <td>...</td>\n",
       "      <td>...</td>\n",
       "      <td>...</td>\n",
       "      <td>...</td>\n",
       "      <td>...</td>\n",
       "      <td>...</td>\n",
       "      <td>...</td>\n",
       "      <td>...</td>\n",
       "      <td>...</td>\n",
       "      <td>...</td>\n",
       "      <td>...</td>\n",
       "      <td>...</td>\n",
       "      <td>...</td>\n",
       "      <td>...</td>\n",
       "    </tr>\n",
       "    <tr>\n",
       "      <th>1694186</th>\n",
       "      <td>Yadgir</td>\n",
       "      <td>Yadgiri Women PS</td>\n",
       "      <td>1</td>\n",
       "      <td>2024</td>\n",
       "      <td>1</td>\n",
       "      <td>2024-01-10 05:30:00.000</td>\n",
       "      <td>2024-01-10 21:30:00.000</td>\n",
       "      <td>2024-01-11 21:30:00.000</td>\n",
       "      <td>11/01/2024</td>\n",
       "      <td>Non Heinous</td>\n",
       "      <td>...</td>\n",
       "      <td>0</td>\n",
       "      <td>0</td>\n",
       "      <td>0</td>\n",
       "      <td>0</td>\n",
       "      <td>0</td>\n",
       "      <td>0</td>\n",
       "      <td>0</td>\n",
       "      <td>0</td>\n",
       "      <td>0</td>\n",
       "      <td>0</td>\n",
       "    </tr>\n",
       "    <tr>\n",
       "      <th>1694187</th>\n",
       "      <td>Yadgir</td>\n",
       "      <td>Yadgiri Women PS</td>\n",
       "      <td>1</td>\n",
       "      <td>2024</td>\n",
       "      <td>1</td>\n",
       "      <td>2024-01-19 22:30:00.000</td>\n",
       "      <td>2024-01-19 22:35:00.000</td>\n",
       "      <td>2024-01-29 19:30:00.000</td>\n",
       "      <td>29/01/2024</td>\n",
       "      <td>Heinous</td>\n",
       "      <td>...</td>\n",
       "      <td>0</td>\n",
       "      <td>1</td>\n",
       "      <td>0</td>\n",
       "      <td>0</td>\n",
       "      <td>1</td>\n",
       "      <td>0</td>\n",
       "      <td>0</td>\n",
       "      <td>0</td>\n",
       "      <td>0</td>\n",
       "      <td>0</td>\n",
       "    </tr>\n",
       "    <tr>\n",
       "      <th>1694188</th>\n",
       "      <td>Yadgir</td>\n",
       "      <td>Yadgiri Women PS</td>\n",
       "      <td>1</td>\n",
       "      <td>2024</td>\n",
       "      <td>2</td>\n",
       "      <td>2024-02-06 15:42:00.000</td>\n",
       "      <td>2024-02-06 15:45:00.000</td>\n",
       "      <td>2024-02-07 17:45:00.000</td>\n",
       "      <td>07/02/2024</td>\n",
       "      <td>Non Heinous</td>\n",
       "      <td>...</td>\n",
       "      <td>0</td>\n",
       "      <td>0</td>\n",
       "      <td>0</td>\n",
       "      <td>0</td>\n",
       "      <td>1</td>\n",
       "      <td>0</td>\n",
       "      <td>0</td>\n",
       "      <td>0</td>\n",
       "      <td>0</td>\n",
       "      <td>0</td>\n",
       "    </tr>\n",
       "    <tr>\n",
       "      <th>1694189</th>\n",
       "      <td>Yadgir</td>\n",
       "      <td>Yadgiri Women PS</td>\n",
       "      <td>1</td>\n",
       "      <td>2024</td>\n",
       "      <td>2</td>\n",
       "      <td>2024-02-19 12:10:00.000</td>\n",
       "      <td>2024-02-19 12:15:00.000</td>\n",
       "      <td>2024-02-24 17:00:00.000</td>\n",
       "      <td>24/02/2024</td>\n",
       "      <td>Heinous</td>\n",
       "      <td>...</td>\n",
       "      <td>0</td>\n",
       "      <td>0</td>\n",
       "      <td>0</td>\n",
       "      <td>0</td>\n",
       "      <td>5</td>\n",
       "      <td>0</td>\n",
       "      <td>0</td>\n",
       "      <td>0</td>\n",
       "      <td>0</td>\n",
       "      <td>0</td>\n",
       "    </tr>\n",
       "    <tr>\n",
       "      <th>1694190</th>\n",
       "      <td>Yadgir</td>\n",
       "      <td>Yadgiri Women PS</td>\n",
       "      <td>1</td>\n",
       "      <td>2024</td>\n",
       "      <td>2</td>\n",
       "      <td>2024-02-26 22:30:00.000</td>\n",
       "      <td>2024-02-26 22:45:00.000</td>\n",
       "      <td>2024-02-28 18:30:00.000</td>\n",
       "      <td>28/02/2024</td>\n",
       "      <td>Non Heinous</td>\n",
       "      <td>...</td>\n",
       "      <td>0</td>\n",
       "      <td>1</td>\n",
       "      <td>0</td>\n",
       "      <td>0</td>\n",
       "      <td>1</td>\n",
       "      <td>0</td>\n",
       "      <td>0</td>\n",
       "      <td>0</td>\n",
       "      <td>0</td>\n",
       "      <td>0</td>\n",
       "    </tr>\n",
       "  </tbody>\n",
       "</table>\n",
       "<p>1694191 rows × 37 columns</p>\n",
       "</div>"
      ],
      "text/plain": [
       "        District_Name          UnitName  RI  Year  Month  \\\n",
       "0            Bagalkot        Amengad PS   1  2016      1   \n",
       "1            Bagalkot        Amengad PS   1  2016      1   \n",
       "2            Bagalkot        Amengad PS   1  2016      1   \n",
       "3            Bagalkot        Amengad PS   1  2016      1   \n",
       "4            Bagalkot        Amengad PS   1  2016      1   \n",
       "...               ...               ...  ..   ...    ...   \n",
       "1694186        Yadgir  Yadgiri Women PS   1  2024      1   \n",
       "1694187        Yadgir  Yadgiri Women PS   1  2024      1   \n",
       "1694188        Yadgir  Yadgiri Women PS   1  2024      2   \n",
       "1694189        Yadgir  Yadgiri Women PS   1  2024      2   \n",
       "1694190        Yadgir  Yadgiri Women PS   1  2024      2   \n",
       "\n",
       "               Offence_From_Date          Offence_To_Date  \\\n",
       "0        2015-12-27 12:00:00.000  2015-12-27 12:05:00.000   \n",
       "1        2016-01-12 17:30:00.000  2016-01-12 17:35:00.000   \n",
       "2        2016-01-12 17:45:00.000  2016-01-12 17:50:00.000   \n",
       "3        2016-01-14 21:30:00.000  2016-01-14 21:35:00.000   \n",
       "4        2016-01-18 15:00:00.000  2016-01-18 15:05:00.000   \n",
       "...                          ...                      ...   \n",
       "1694186  2024-01-10 05:30:00.000  2024-01-10 21:30:00.000   \n",
       "1694187  2024-01-19 22:30:00.000  2024-01-19 22:35:00.000   \n",
       "1694188  2024-02-06 15:42:00.000  2024-02-06 15:45:00.000   \n",
       "1694189  2024-02-19 12:10:00.000  2024-02-19 12:15:00.000   \n",
       "1694190  2024-02-26 22:30:00.000  2024-02-26 22:45:00.000   \n",
       "\n",
       "                FIR_Reg_DateTime    FIR_Date     FIR Type  ... Boy Girl Age 0  \\\n",
       "0        2016-01-05 11:00:00.000  05/01/2016  Non Heinous  ...   0    1     0   \n",
       "1        2016-01-12 19:00:00.000  12/01/2016  Non Heinous  ...   0    0     0   \n",
       "2        2016-01-12 19:30:00.000  12/01/2016  Non Heinous  ...   0    0     0   \n",
       "3        2016-01-15 14:00:00.000  15/01/2016  Non Heinous  ...   0    0     1   \n",
       "4        2016-01-18 19:30:00.000  18/01/2016      Heinous  ...   0    0     0   \n",
       "...                          ...         ...          ...  ...  ..  ...   ...   \n",
       "1694186  2024-01-11 21:30:00.000  11/01/2024  Non Heinous  ...   0    0     0   \n",
       "1694187  2024-01-29 19:30:00.000  29/01/2024      Heinous  ...   0    1     0   \n",
       "1694188  2024-02-07 17:45:00.000  07/02/2024  Non Heinous  ...   0    0     0   \n",
       "1694189  2024-02-24 17:00:00.000  24/02/2024      Heinous  ...   0    0     0   \n",
       "1694190  2024-02-28 18:30:00.000  28/02/2024  Non Heinous  ...   0    1     0   \n",
       "\n",
       "        VICTIM COUNT  Accused Count  Arrested Male Arrested Female  \\\n",
       "0                  0              1              1               0   \n",
       "1                  0              5              5               0   \n",
       "2                  0              1              1               0   \n",
       "3                  0              1              1               0   \n",
       "4                  0              1              1               0   \n",
       "...              ...            ...            ...             ...   \n",
       "1694186            0              0              0               0   \n",
       "1694187            0              1              0               0   \n",
       "1694188            0              1              0               0   \n",
       "1694189            0              5              0               0   \n",
       "1694190            0              1              0               0   \n",
       "\n",
       "        Arrested Count\\tNo. Accused_ChargeSheeted Count Conviction Count  \n",
       "0                         1                           1                0  \n",
       "1                         5                           5                2  \n",
       "2                         1                           1                0  \n",
       "3                         1                           1                0  \n",
       "4                         1                           1                0  \n",
       "...                     ...                         ...              ...  \n",
       "1694186                   0                           0                0  \n",
       "1694187                   0                           0                0  \n",
       "1694188                   0                           0                0  \n",
       "1694189                   0                           0                0  \n",
       "1694190                   0                           0                0  \n",
       "\n",
       "[1694191 rows x 37 columns]"
      ]
     },
     "execution_count": 4,
     "metadata": {},
     "output_type": "execute_result"
    }
   ],
   "source": [
    "df.drop(columns=['FIR_ID', 'Unit_ID', 'Crime_No','FIRNo'], inplace=True)\n",
    "df"
   ]
  },
  {
   "cell_type": "code",
   "execution_count": 5,
   "metadata": {
    "execution": {
     "iopub.execute_input": "2024-04-10T20:36:24.596068Z",
     "iopub.status.busy": "2024-04-10T20:36:24.595694Z",
     "iopub.status.idle": "2024-04-10T20:36:24.618994Z",
     "shell.execute_reply": "2024-04-10T20:36:24.617837Z",
     "shell.execute_reply.started": "2024-04-10T20:36:24.596037Z"
    }
   },
   "outputs": [
    {
     "name": "stdout",
     "output_type": "stream",
     "text": [
      "<class 'pandas.core.frame.DataFrame'>\n",
      "RangeIndex: 1694191 entries, 0 to 1694190\n",
      "Data columns (total 37 columns):\n",
      " #   Column                       Dtype  \n",
      "---  ------                       -----  \n",
      " 0   District_Name                object \n",
      " 1   UnitName                     object \n",
      " 2   RI                           int64  \n",
      " 3   Year                         int64  \n",
      " 4   Month                        int64  \n",
      " 5   Offence_From_Date            object \n",
      " 6   Offence_To_Date              object \n",
      " 7   FIR_Reg_DateTime             object \n",
      " 8   FIR_Date                     object \n",
      " 9   FIR Type                     object \n",
      " 10  FIR_Stage                    object \n",
      " 11  Complaint_Mode               object \n",
      " 12  CrimeGroup_Name              object \n",
      " 13  CrimeHead_Name               object \n",
      " 14  Latitude                     float64\n",
      " 15  Longitude                    float64\n",
      " 16  ActSection                   object \n",
      " 17  IOName                       object \n",
      " 18  KGID                         object \n",
      " 19  IOAssigned_Date              object \n",
      " 20  Internal_IO                  int64  \n",
      " 21  Place of Offence             object \n",
      " 22  Distance from PS             object \n",
      " 23  Beat_Name                    object \n",
      " 24  Village_Area_Name            object \n",
      " 25  Male                         int64  \n",
      " 26  Female                       int64  \n",
      " 27  Boy                          int64  \n",
      " 28  Girl                         int64  \n",
      " 29  Age 0                        int64  \n",
      " 30  VICTIM COUNT                 int64  \n",
      " 31  Accused Count                int64  \n",
      " 32  Arrested Male                int64  \n",
      " 33  Arrested Female              int64  \n",
      " 34  Arrested Count\tNo.           int64  \n",
      " 35  Accused_ChargeSheeted Count  int64  \n",
      " 36  Conviction Count             int64  \n",
      "dtypes: float64(2), int64(16), object(19)\n",
      "memory usage: 478.2+ MB\n"
     ]
    }
   ],
   "source": [
    "df.info()"
   ]
  },
  {
   "cell_type": "code",
   "execution_count": 6,
   "metadata": {
    "execution": {
     "iopub.execute_input": "2024-04-10T20:36:24.621221Z",
     "iopub.status.busy": "2024-04-10T20:36:24.620631Z",
     "iopub.status.idle": "2024-04-10T20:37:26.906377Z",
     "shell.execute_reply": "2024-04-10T20:37:26.905287Z",
     "shell.execute_reply.started": "2024-04-10T20:36:24.621172Z"
    }
   },
   "outputs": [
    {
     "name": "stdout",
     "output_type": "stream",
     "text": [
      "  District_Name    UnitName  RI  Year  Month Offence_From_Date  \\\n",
      "0      Bagalkot  Amengad PS   1  2016      1  2015-12-27 12:00   \n",
      "1      Bagalkot  Amengad PS   1  2016      1  2016-01-12 17:30   \n",
      "2      Bagalkot  Amengad PS   1  2016      1  2016-01-12 17:45   \n",
      "3      Bagalkot  Amengad PS   1  2016      1  2016-01-14 21:30   \n",
      "4      Bagalkot  Amengad PS   1  2016      1  2016-01-18 15:00   \n",
      "\n",
      "    Offence_To_Date  FIR_Reg_DateTime   FIR_Date     FIR Type  ... Boy Girl  \\\n",
      "0  2015-12-27 12:05  2016-01-05 11:00 2016-01-05  Non Heinous  ...   0    1   \n",
      "1  2016-01-12 17:35  2016-01-12 19:00 2016-01-12  Non Heinous  ...   0    0   \n",
      "2  2016-01-12 17:50  2016-01-12 19:30 2016-01-12  Non Heinous  ...   0    0   \n",
      "3  2016-01-14 21:35  2016-01-15 14:00 2016-01-15  Non Heinous  ...   0    0   \n",
      "4  2016-01-18 15:05  2016-01-18 19:30 2016-01-18      Heinous  ...   0    0   \n",
      "\n",
      "  Age 0 VICTIM COUNT  Accused Count  Arrested Male Arrested Female  \\\n",
      "0     0            0              1              1               0   \n",
      "1     0            0              5              5               0   \n",
      "2     0            0              1              1               0   \n",
      "3     1            0              1              1               0   \n",
      "4     0            0              1              1               0   \n",
      "\n",
      "  Arrested Count\\tNo. Accused_ChargeSheeted Count Conviction Count  \n",
      "0                   1                           1                0  \n",
      "1                   5                           5                2  \n",
      "2                   1                           1                0  \n",
      "3                   1                           1                0  \n",
      "4                   1                           1                0  \n",
      "\n",
      "[5 rows x 37 columns]\n"
     ]
    }
   ],
   "source": [
    "# Assuming df is your DataFrame\n",
    "date_time_columns = ['Offence_From_Date', 'FIR_Reg_DateTime', 'Offence_To_Date']\n",
    "\n",
    "for column in date_time_columns:\n",
    "    df[column] = pd.to_datetime(df[column]).dt.strftime('%Y-%m-%d %H:%M')\n",
    "\n",
    "# Display the first few rows to verify the changes\n",
    "# print(df.head())\n",
    " \n",
    "date_time_columns2 = ['FIR_Date', 'IOAssigned_Date']\n",
    "df[date_time_columns2] = df[date_time_columns2].apply(pd.to_datetime, format='%d/%m/%Y', errors='coerce')\n",
    "\n",
    "# Convert int64 to int8\n",
    "# int64_columns = df.select_dtypes(include='int64').columns\n",
    "# df[int64_columns] = df[int64_columns].astype('int8')\n",
    "\n",
    "# Convert normal object to categorical values\n",
    "object_columns = df.select_dtypes(include='object').columns\n",
    "df[object_columns] = df[object_columns].astype('category')\n",
    "\n",
    "# Display the first few rows to verify the changes\n",
    "print(df.head())\n"
   ]
  },
  {
   "cell_type": "code",
   "execution_count": 7,
   "metadata": {
    "execution": {
     "iopub.execute_input": "2024-04-10T20:37:26.907851Z",
     "iopub.status.busy": "2024-04-10T20:37:26.907553Z",
     "iopub.status.idle": "2024-04-10T20:37:26.924943Z",
     "shell.execute_reply": "2024-04-10T20:37:26.924051Z",
     "shell.execute_reply.started": "2024-04-10T20:37:26.907825Z"
    }
   },
   "outputs": [
    {
     "data": {
      "text/plain": [
       "array([ 0,  1,  3,  7,  2,  4, 12,  5, 11, 17, 10,  6,  9, 19, 20,  8, 15,\n",
       "       23, 29, 18, 16, 13, 24, 21, 30, 14, 41, 25, 22, 28, 27, 31, 37],\n",
       "      dtype=int64)"
      ]
     },
     "execution_count": 7,
     "metadata": {},
     "output_type": "execute_result"
    }
   ],
   "source": [
    "df['Age 0'].unique()"
   ]
  },
  {
   "cell_type": "code",
   "execution_count": 8,
   "metadata": {
    "execution": {
     "iopub.execute_input": "2024-04-10T20:37:26.926543Z",
     "iopub.status.busy": "2024-04-10T20:37:26.926188Z",
     "iopub.status.idle": "2024-04-10T20:37:26.931458Z",
     "shell.execute_reply": "2024-04-10T20:37:26.930421Z",
     "shell.execute_reply.started": "2024-04-10T20:37:26.926489Z"
    }
   },
   "outputs": [],
   "source": [
    "\n",
    "# df['Gender'] = df['Male'].apply(lambda x: 'Male' if x == 1 else 'Female')\n",
    "\n",
    "# df.drop(['Male', 'Female'], axis=1, inplace=True)\n",
    "\n",
    "# df['Boy_or_Girl'] = df['Boy'].apply(lambda x: 'Boy' if x == 1 else 'Girl')\n",
    "\n",
    "# df.drop(['Boy', 'Girl'], axis=1, inplace=True)\n",
    "# print(df.head())"
   ]
  },
  {
   "cell_type": "code",
   "execution_count": 9,
   "metadata": {
    "execution": {
     "iopub.execute_input": "2024-04-10T20:37:26.933787Z",
     "iopub.status.busy": "2024-04-10T20:37:26.933022Z",
     "iopub.status.idle": "2024-04-10T20:37:29.723803Z",
     "shell.execute_reply": "2024-04-10T20:37:29.722566Z",
     "shell.execute_reply.started": "2024-04-10T20:37:26.933748Z"
    }
   },
   "outputs": [
    {
     "name": "stdout",
     "output_type": "stream",
     "text": [
      "<class 'pandas.core.frame.DataFrame'>\n",
      "RangeIndex: 1694191 entries, 0 to 1694190\n",
      "Data columns (total 37 columns):\n",
      " #   Column                       Dtype         \n",
      "---  ------                       -----         \n",
      " 0   District_Name                category      \n",
      " 1   UnitName                     category      \n",
      " 2   RI                           int64         \n",
      " 3   Year                         int64         \n",
      " 4   Month                        int64         \n",
      " 5   Offence_From_Date            category      \n",
      " 6   Offence_To_Date              category      \n",
      " 7   FIR_Reg_DateTime             category      \n",
      " 8   FIR_Date                     datetime64[ns]\n",
      " 9   FIR Type                     category      \n",
      " 10  FIR_Stage                    category      \n",
      " 11  Complaint_Mode               category      \n",
      " 12  CrimeGroup_Name              category      \n",
      " 13  CrimeHead_Name               category      \n",
      " 14  Latitude                     float64       \n",
      " 15  Longitude                    float64       \n",
      " 16  ActSection                   category      \n",
      " 17  IOName                       category      \n",
      " 18  KGID                         category      \n",
      " 19  IOAssigned_Date              datetime64[ns]\n",
      " 20  Internal_IO                  int64         \n",
      " 21  Place of Offence             category      \n",
      " 22  Distance from PS             category      \n",
      " 23  Beat_Name                    category      \n",
      " 24  Village_Area_Name            category      \n",
      " 25  Male                         int64         \n",
      " 26  Female                       int64         \n",
      " 27  Boy                          int64         \n",
      " 28  Girl                         int64         \n",
      " 29  Age 0                        int64         \n",
      " 30  VICTIM COUNT                 int64         \n",
      " 31  Accused Count                int64         \n",
      " 32  Arrested Male                int64         \n",
      " 33  Arrested Female              int64         \n",
      " 34  Arrested Count\tNo.           int64         \n",
      " 35  Accused_ChargeSheeted Count  int64         \n",
      " 36  Conviction Count             int64         \n",
      "dtypes: category(17), datetime64[ns](2), float64(2), int64(16)\n",
      "memory usage: 452.4 MB\n"
     ]
    }
   ],
   "source": [
    "df.info()"
   ]
  },
  {
   "cell_type": "code",
   "execution_count": 10,
   "metadata": {
    "execution": {
     "iopub.execute_input": "2024-04-10T20:37:29.729839Z",
     "iopub.status.busy": "2024-04-10T20:37:29.729466Z",
     "iopub.status.idle": "2024-04-10T20:37:29.753817Z",
     "shell.execute_reply": "2024-04-10T20:37:29.752592Z",
     "shell.execute_reply.started": "2024-04-10T20:37:29.729809Z"
    }
   },
   "outputs": [
    {
     "name": "stdout",
     "output_type": "stream",
     "text": [
      "Boy\n",
      "0     1655454\n",
      "1       34567\n",
      "2        3240\n",
      "3         562\n",
      "4         182\n",
      "5          69\n",
      "6          34\n",
      "7          32\n",
      "9          12\n",
      "8          11\n",
      "13          5\n",
      "18          4\n",
      "11          4\n",
      "10          3\n",
      "12          2\n",
      "24          1\n",
      "21          1\n",
      "14          1\n",
      "17          1\n",
      "22          1\n",
      "31          1\n",
      "15          1\n",
      "23          1\n",
      "29          1\n",
      "45          1\n",
      "Name: count, dtype: int64\n"
     ]
    }
   ],
   "source": [
    "# Assuming df is your DataFrame\n",
    "boy_counts = df['Boy'].value_counts()\n",
    "\n",
    "# Display unique values with total count\n",
    "print(boy_counts)\n"
   ]
  },
  {
   "cell_type": "code",
   "execution_count": 11,
   "metadata": {
    "execution": {
     "iopub.execute_input": "2024-04-10T20:37:29.755777Z",
     "iopub.status.busy": "2024-04-10T20:37:29.755372Z",
     "iopub.status.idle": "2024-04-10T20:37:29.786756Z",
     "shell.execute_reply": "2024-04-10T20:37:29.785668Z",
     "shell.execute_reply.started": "2024-04-10T20:37:29.755744Z"
    }
   },
   "outputs": [
    {
     "name": "stdout",
     "output_type": "stream",
     "text": [
      "Arrested Male\n",
      "0      971945\n",
      "1      487484\n",
      "2       97737\n",
      "3       47525\n",
      "4       29849\n",
      "        ...  \n",
      "82          1\n",
      "195         1\n",
      "87          1\n",
      "72          1\n",
      "76          1\n",
      "Name: count, Length: 89, dtype: int64\n"
     ]
    }
   ],
   "source": [
    "# Assuming df is your DataFrame\n",
    "Aboy_counts = df['Arrested Male'].value_counts()\n",
    "\n",
    "# Display unique values with total count\n",
    "print(Aboy_counts)\n"
   ]
  },
  {
   "cell_type": "code",
   "execution_count": 12,
   "metadata": {
    "execution": {
     "iopub.execute_input": "2024-04-10T20:37:29.788567Z",
     "iopub.status.busy": "2024-04-10T20:37:29.788192Z",
     "iopub.status.idle": "2024-04-10T20:37:29.812250Z",
     "shell.execute_reply": "2024-04-10T20:37:29.811051Z",
     "shell.execute_reply.started": "2024-04-10T20:37:29.788527Z"
    }
   },
   "outputs": [
    {
     "data": {
      "text/plain": [
       "array([  1,   5,   2,   0,   3,   4,   8,  11,  10,  12,   7,  15,   6,\n",
       "        20,  14,   9,  13,  18,  19,  16,  25,  28,  23,  36,  37,  17,\n",
       "        21,  22,  24,  40,  27,  45,  31,  33,  26,  39,  29,  30,  57,\n",
       "        42,  34,  47,  51,  61,  38,  52,  43,  35,  53,  72,  32,  62,\n",
       "        44,  87, 195,  41,  82,  46,  74,  49,  58,  48,  56, 125,  55,\n",
       "        79,  71,  66,  80, 143,  65, 107,  67,  69, 102,  63,  85,  70,\n",
       "       130,  59,  92, 114, 155, 202,  93, 111,  54,  50,  76], dtype=int64)"
      ]
     },
     "execution_count": 12,
     "metadata": {},
     "output_type": "execute_result"
    }
   ],
   "source": [
    "df['Arrested Male'].unique()"
   ]
  },
  {
   "cell_type": "code",
   "execution_count": 13,
   "metadata": {
    "execution": {
     "iopub.execute_input": "2024-04-10T20:37:29.814231Z",
     "iopub.status.busy": "2024-04-10T20:37:29.813595Z",
     "iopub.status.idle": "2024-04-10T20:37:29.869926Z",
     "shell.execute_reply": "2024-04-10T20:37:29.868727Z",
     "shell.execute_reply.started": "2024-04-10T20:37:29.814185Z"
    }
   },
   "outputs": [
    {
     "data": {
      "text/plain": [
       "['KAMATAGI BUS STAND, KAMATAGI BUS STAND', 'RAKKASAGI VILLEGE IN FRONT MOUNESHWAR TEMPEL,..., 'RAKKASAGI VILLAEG BUS STAND, RAKKASAGI VILLAE..., 'BAGALKOT TO AMINAGAD SH-20 ROAD NEAR CHAPI FI..., 'AMBLIKOPPA BUS STAND, AMBLIKOPPA BUS STAND', ..., 'at Yadgiri New Busstand Near, at Yadgiri New ..., 'at Talak Village Infront of Complainat House,..., 'at Bilahar Village in Complainant House, at B..., 'at Opposite Mini Vidanasouda in Accuseds Hous..., 'Bandalli Village Near complainant's house, Ba...]\n",
       "Length: 1304289\n",
       "Categories (1304289, object): ['! st Cross,Anjaneya Temple,Panathur dinne, ! ..., '\" Vasudha \" Opposite Nitte Panchayath, \" Vasu..., '\"# 88, 4th main, Chandra Reddy Layout,, \"# 88..., '\"A\" BLACK SARVICE ROAD, \"A\" BLACK SARVICE ROAD', ..., '“GANGA BUILDING” NEAR KARIYAMMA TEMPLE, “GANG..., '“KRISHN KUNJA” VIJIYANAND NAGAR, MAKADAVALA P..., '“PRAKRUTI NILAY” PLOT NO 190 BUDA SCHEEM NO 1..., '“T CROSS” ST MIRAS SCHOOL JUNCTION,, “T CROSS...]"
      ]
     },
     "execution_count": 13,
     "metadata": {},
     "output_type": "execute_result"
    }
   ],
   "source": [
    "# Place of Offence \n",
    "df['Place of Offence'].unique()"
   ]
  },
  {
   "cell_type": "code",
   "execution_count": 14,
   "metadata": {
    "execution": {
     "iopub.execute_input": "2024-04-10T20:37:29.872418Z",
     "iopub.status.busy": "2024-04-10T20:37:29.871457Z",
     "iopub.status.idle": "2024-04-10T20:37:29.884915Z",
     "shell.execute_reply": "2024-04-10T20:37:29.883710Z",
     "shell.execute_reply.started": "2024-04-10T20:37:29.872377Z"
    }
   },
   "outputs": [
    {
     "data": {
      "text/plain": [
       "0           0.000000\n",
       "1           0.000000\n",
       "2           0.000000\n",
       "3           0.000000\n",
       "4           0.000000\n",
       "             ...    \n",
       "1694186    16.748633\n",
       "1694187    16.844536\n",
       "1694188    16.556974\n",
       "1694189    16.772232\n",
       "1694190    16.800526\n",
       "Name: Latitude, Length: 1694191, dtype: float64"
      ]
     },
     "execution_count": 14,
     "metadata": {},
     "output_type": "execute_result"
    }
   ],
   "source": [
    "df['Latitude']"
   ]
  },
  {
   "cell_type": "code",
   "execution_count": 15,
   "metadata": {
    "execution": {
     "iopub.execute_input": "2024-04-10T20:37:29.887784Z",
     "iopub.status.busy": "2024-04-10T20:37:29.887069Z",
     "iopub.status.idle": "2024-04-10T20:37:29.897621Z",
     "shell.execute_reply": "2024-04-10T20:37:29.896574Z",
     "shell.execute_reply.started": "2024-04-10T20:37:29.887739Z"
    }
   },
   "outputs": [
    {
     "data": {
      "text/plain": [
       "0           0.000000\n",
       "1           0.000000\n",
       "2           0.000000\n",
       "3           0.000000\n",
       "4           0.000000\n",
       "             ...    \n",
       "1694186    77.133669\n",
       "1694187    77.021722\n",
       "1694188    77.159238\n",
       "1694189    77.117018\n",
       "1694190    77.141569\n",
       "Name: Longitude, Length: 1694191, dtype: float64"
      ]
     },
     "execution_count": 15,
     "metadata": {},
     "output_type": "execute_result"
    }
   ],
   "source": [
    "df['Longitude']"
   ]
  },
  {
   "cell_type": "code",
   "execution_count": 16,
   "metadata": {
    "execution": {
     "iopub.execute_input": "2024-04-10T20:37:29.899825Z",
     "iopub.status.busy": "2024-04-10T20:37:29.899408Z",
     "iopub.status.idle": "2024-04-10T20:37:29.907028Z",
     "shell.execute_reply": "2024-04-10T20:37:29.906086Z",
     "shell.execute_reply.started": "2024-04-10T20:37:29.899788Z"
    }
   },
   "outputs": [],
   "source": [
    "# import folium\n",
    "\n",
    "# # Filter rows with non-null values in Latitude and Longitude columns\n",
    "# df_filtered = df.dropna(subset=['Latitude', 'Longitude'])\n",
    "\n",
    "# # Create a map centered at the mean latitude and longitude\n",
    "# map_center = [df_filtered['Latitude'].mean(), df_filtered['Longitude'].mean()]\n",
    "# mymap = folium.Map(location=map_center, zoom_start=10)\n",
    "\n",
    "# # Add markers for each point\n",
    "# for idx, row in df_filtered.iterrows():\n",
    "#     folium.Marker([row['Latitude'], row['Longitude']]).add_to(mymap)\n",
    "\n",
    "# # Save the map to an HTML file\n",
    "# mymap.save('map.html')\n"
   ]
  },
  {
   "cell_type": "code",
   "execution_count": 17,
   "metadata": {
    "execution": {
     "iopub.execute_input": "2024-04-10T20:37:29.910042Z",
     "iopub.status.busy": "2024-04-10T20:37:29.909315Z",
     "iopub.status.idle": "2024-04-10T20:37:29.917474Z",
     "shell.execute_reply": "2024-04-10T20:37:29.916542Z",
     "shell.execute_reply.started": "2024-04-10T20:37:29.910008Z"
    }
   },
   "outputs": [],
   "source": [
    "# import folium\n",
    "# from IPython.display import HTML\n",
    "\n",
    "# # Filter rows with non-null values in Latitude and Longitude columns\n",
    "# df_filtered = df.dropna(subset=['Latitude', 'Longitude'])\n",
    "\n",
    "# # Create a map centered at the mean latitude and longitude\n",
    "# map_center = [df_filtered['Latitude'].mean(), df_filtered['Longitude'].mean()]\n",
    "# mymap = folium.Map(location=map_center, zoom_start=10)\n",
    "\n",
    "# # Add markers for each point\n",
    "# for idx, row in df_filtered.iterrows():\n",
    "#     folium.Marker([row['Latitude'], row['Longitude']]).add_to(mymap)\n",
    "\n",
    "# # Save the map as an HTML string\n",
    "# html_map = mymap._repr_html_()\n",
    "\n",
    "# # Display the HTML map\n",
    "# HTML(html_map)\n"
   ]
  },
  {
   "cell_type": "code",
   "execution_count": 18,
   "metadata": {
    "execution": {
     "iopub.execute_input": "2024-04-10T20:37:29.920151Z",
     "iopub.status.busy": "2024-04-10T20:37:29.919436Z",
     "iopub.status.idle": "2024-04-10T20:37:29.932258Z",
     "shell.execute_reply": "2024-04-10T20:37:29.931071Z",
     "shell.execute_reply.started": "2024-04-10T20:37:29.920117Z"
    }
   },
   "outputs": [
    {
     "data": {
      "text/plain": [
       "0                  R S BIRADAR   (PI)\n",
       "1                   G.H.KUPPI   (PSI)\n",
       "2                  S G HELVAR   (ASI)\n",
       "3                  R S BIRADAR   (PI)\n",
       "4             Karuneshagowda J   (PI)\n",
       "                      ...            \n",
       "1694186               MANJULA   (PSI)\n",
       "1694187    PRAKASH R. YATANOOR   (PI)\n",
       "1694188    PRAKASH R. YATANOOR   (PI)\n",
       "1694189    PRAKASH R. YATANOOR   (PI)\n",
       "1694190              SRISHAIL   (ASI)\n",
       "Name: IOName, Length: 1694191, dtype: category\n",
       "Categories (24456, object): ['A A GADINAIK   (HC)', 'A A KADANI   (ASI)', 'A A MULLA   (ASI)', 'A A PATEL ABDULRAHIM PATEL (ASI)', ..., 'sunil  kadapatti (PSI)', 'veerayya Swamy   (ASI)', 'xxxxxxxxxxxxxxxxxxxx   (PSI)', 'yallappa BHIMAPPA goravanakoll (HC)']"
      ]
     },
     "execution_count": 18,
     "metadata": {},
     "output_type": "execute_result"
    }
   ],
   "source": [
    "df['IOName']"
   ]
  },
  {
   "cell_type": "code",
   "execution_count": 19,
   "metadata": {
    "execution": {
     "iopub.execute_input": "2024-04-10T20:37:29.934336Z",
     "iopub.status.busy": "2024-04-10T20:37:29.933793Z",
     "iopub.status.idle": "2024-04-10T20:37:30.331224Z",
     "shell.execute_reply": "2024-04-10T20:37:30.330117Z",
     "shell.execute_reply.started": "2024-04-10T20:37:29.934294Z"
    }
   },
   "outputs": [
    {
     "name": "stdout",
     "output_type": "stream",
     "text": [
      "Number of rows with more than one '1': 2816\n"
     ]
    },
    {
     "data": {
      "text/html": [
       "<div>\n",
       "<style scoped>\n",
       "    .dataframe tbody tr th:only-of-type {\n",
       "        vertical-align: middle;\n",
       "    }\n",
       "\n",
       "    .dataframe tbody tr th {\n",
       "        vertical-align: top;\n",
       "    }\n",
       "\n",
       "    .dataframe thead th {\n",
       "        text-align: right;\n",
       "    }\n",
       "</style>\n",
       "<table border=\"1\" class=\"dataframe\">\n",
       "  <thead>\n",
       "    <tr style=\"text-align: right;\">\n",
       "      <th></th>\n",
       "      <th>Girl</th>\n",
       "      <th>Boy</th>\n",
       "    </tr>\n",
       "  </thead>\n",
       "  <tbody>\n",
       "    <tr>\n",
       "      <th>0</th>\n",
       "      <td>1</td>\n",
       "      <td>0</td>\n",
       "    </tr>\n",
       "    <tr>\n",
       "      <th>1</th>\n",
       "      <td>0</td>\n",
       "      <td>0</td>\n",
       "    </tr>\n",
       "    <tr>\n",
       "      <th>2</th>\n",
       "      <td>0</td>\n",
       "      <td>0</td>\n",
       "    </tr>\n",
       "    <tr>\n",
       "      <th>3</th>\n",
       "      <td>0</td>\n",
       "      <td>0</td>\n",
       "    </tr>\n",
       "    <tr>\n",
       "      <th>4</th>\n",
       "      <td>0</td>\n",
       "      <td>0</td>\n",
       "    </tr>\n",
       "    <tr>\n",
       "      <th>...</th>\n",
       "      <td>...</td>\n",
       "      <td>...</td>\n",
       "    </tr>\n",
       "    <tr>\n",
       "      <th>1694186</th>\n",
       "      <td>0</td>\n",
       "      <td>0</td>\n",
       "    </tr>\n",
       "    <tr>\n",
       "      <th>1694187</th>\n",
       "      <td>1</td>\n",
       "      <td>0</td>\n",
       "    </tr>\n",
       "    <tr>\n",
       "      <th>1694188</th>\n",
       "      <td>0</td>\n",
       "      <td>0</td>\n",
       "    </tr>\n",
       "    <tr>\n",
       "      <th>1694189</th>\n",
       "      <td>0</td>\n",
       "      <td>0</td>\n",
       "    </tr>\n",
       "    <tr>\n",
       "      <th>1694190</th>\n",
       "      <td>1</td>\n",
       "      <td>0</td>\n",
       "    </tr>\n",
       "  </tbody>\n",
       "</table>\n",
       "<p>1694191 rows × 2 columns</p>\n",
       "</div>"
      ],
      "text/plain": [
       "         Girl  Boy\n",
       "0           1    0\n",
       "1           0    0\n",
       "2           0    0\n",
       "3           0    0\n",
       "4           0    0\n",
       "...       ...  ...\n",
       "1694186     0    0\n",
       "1694187     1    0\n",
       "1694188     0    0\n",
       "1694189     0    0\n",
       "1694190     1    0\n",
       "\n",
       "[1694191 rows x 2 columns]"
      ]
     },
     "execution_count": 19,
     "metadata": {},
     "output_type": "execute_result"
    }
   ],
   "source": [
    "# Select the desired columns\n",
    "df_gender = df[['Girl', 'Boy']]  # Use double square brackets for column selection\n",
    "\n",
    "# Count rows with more than one '1'\n",
    "count = (df_gender == 1).sum(axis=1).gt(1).sum()  \n",
    "\n",
    "# Print the count\n",
    "print(f\"Number of rows with more than one '1': {count}\")\n",
    "df_gender\n"
   ]
  },
  {
   "cell_type": "code",
   "execution_count": 20,
   "metadata": {
    "execution": {
     "iopub.execute_input": "2024-04-10T20:37:30.333404Z",
     "iopub.status.busy": "2024-04-10T20:37:30.333027Z",
     "iopub.status.idle": "2024-04-10T20:37:30.348598Z",
     "shell.execute_reply": "2024-04-10T20:37:30.347358Z",
     "shell.execute_reply.started": "2024-04-10T20:37:30.333369Z"
    }
   },
   "outputs": [
    {
     "name": "stdout",
     "output_type": "stream",
     "text": [
      "<class 'pandas.core.frame.DataFrame'>\n",
      "RangeIndex: 1694191 entries, 0 to 1694190\n",
      "Data columns (total 37 columns):\n",
      " #   Column                       Dtype         \n",
      "---  ------                       -----         \n",
      " 0   District_Name                category      \n",
      " 1   UnitName                     category      \n",
      " 2   RI                           int64         \n",
      " 3   Year                         int64         \n",
      " 4   Month                        int64         \n",
      " 5   Offence_From_Date            category      \n",
      " 6   Offence_To_Date              category      \n",
      " 7   FIR_Reg_DateTime             category      \n",
      " 8   FIR_Date                     datetime64[ns]\n",
      " 9   FIR Type                     category      \n",
      " 10  FIR_Stage                    category      \n",
      " 11  Complaint_Mode               category      \n",
      " 12  CrimeGroup_Name              category      \n",
      " 13  CrimeHead_Name               category      \n",
      " 14  Latitude                     float64       \n",
      " 15  Longitude                    float64       \n",
      " 16  ActSection                   category      \n",
      " 17  IOName                       category      \n",
      " 18  KGID                         category      \n",
      " 19  IOAssigned_Date              datetime64[ns]\n",
      " 20  Internal_IO                  int64         \n",
      " 21  Place of Offence             category      \n",
      " 22  Distance from PS             category      \n",
      " 23  Beat_Name                    category      \n",
      " 24  Village_Area_Name            category      \n",
      " 25  Male                         int64         \n",
      " 26  Female                       int64         \n",
      " 27  Boy                          int64         \n",
      " 28  Girl                         int64         \n",
      " 29  Age 0                        int64         \n",
      " 30  VICTIM COUNT                 int64         \n",
      " 31  Accused Count                int64         \n",
      " 32  Arrested Male                int64         \n",
      " 33  Arrested Female              int64         \n",
      " 34  Arrested Count\tNo.           int64         \n",
      " 35  Accused_ChargeSheeted Count  int64         \n",
      " 36  Conviction Count             int64         \n",
      "dtypes: category(17), datetime64[ns](2), float64(2), int64(16)\n",
      "memory usage: 452.4 MB\n"
     ]
    }
   ],
   "source": [
    "df.info()"
   ]
  },
  {
   "cell_type": "code",
   "execution_count": 21,
   "metadata": {
    "execution": {
     "iopub.execute_input": "2024-04-10T20:37:30.350625Z",
     "iopub.status.busy": "2024-04-10T20:37:30.350231Z",
     "iopub.status.idle": "2024-04-10T20:37:30.493891Z",
     "shell.execute_reply": "2024-04-10T20:37:30.492671Z",
     "shell.execute_reply.started": "2024-04-10T20:37:30.350592Z"
    }
   },
   "outputs": [
    {
     "data": {
      "text/plain": [
       "0           PI\n",
       "1          PSI\n",
       "2          ASI\n",
       "3           PI\n",
       "4           PI\n",
       "          ... \n",
       "1694186    PSI\n",
       "1694187     PI\n",
       "1694188     PI\n",
       "1694189     PI\n",
       "1694190    ASI\n",
       "Name: IOName, Length: 1694191, dtype: object"
      ]
     },
     "execution_count": 21,
     "metadata": {},
     "output_type": "execute_result"
    }
   ],
   "source": [
    "import pandas as pd\n",
    "import re\n",
    "\n",
    "# Define regular expression pattern\n",
    "pattern = r\"\\(.*?\\)\"  # Matches any characters between parentheses\n",
    "\n",
    "def update_name(name):\n",
    "  # Extract inner value using regex\n",
    "  match = re.search(pattern, name)\n",
    "  if match:\n",
    "    return match.group(0)[1:-1].strip()  # Extract inner value, remove extra spaces\n",
    "  else:\n",
    "    # Return the original name if no parentheses found\n",
    "    return name  # Change back to returning the original name\n",
    "\n",
    "# Apply function to update IOName column\n",
    "df['IOName'] = df['IOName'].apply(update_name)\n",
    "df['IOName']"
   ]
  },
  {
   "cell_type": "code",
   "execution_count": 22,
   "metadata": {
    "execution": {
     "iopub.execute_input": "2024-04-10T20:37:30.496035Z",
     "iopub.status.busy": "2024-04-10T20:37:30.495351Z",
     "iopub.status.idle": "2024-04-10T20:37:30.653252Z",
     "shell.execute_reply": "2024-04-10T20:37:30.652209Z",
     "shell.execute_reply.started": "2024-04-10T20:37:30.495997Z"
    }
   },
   "outputs": [
    {
     "data": {
      "text/plain": [
       "array(['PI', 'PSI', 'ASI', 'HC', 'Dy.SP', 'WHC', 'WPSI', 'DPI', 'SP',\n",
       "       'WPI', 'WASI', 'PC', 'ADDL. SP', 'ACP', nan, 'ASP', 'WPC',\n",
       "       'Pro. PSI', 'Pro.DySP', 'DSI', 'Pro. DYSP', 'Pro PSI', 'Sweeper',\n",
       "       'DIG'], dtype=object)"
      ]
     },
     "execution_count": 22,
     "metadata": {},
     "output_type": "execute_result"
    }
   ],
   "source": [
    "df['IOName'].unique()"
   ]
  },
  {
   "cell_type": "code",
   "execution_count": 23,
   "metadata": {
    "execution": {
     "iopub.execute_input": "2024-04-10T20:37:30.654883Z",
     "iopub.status.busy": "2024-04-10T20:37:30.654563Z",
     "iopub.status.idle": "2024-04-10T20:37:30.673490Z",
     "shell.execute_reply": "2024-04-10T20:37:30.672556Z",
     "shell.execute_reply.started": "2024-04-10T20:37:30.654858Z"
    }
   },
   "outputs": [
    {
     "data": {
      "text/plain": [
       "['Non Heinous', 'Heinous', NaN]\n",
       "Categories (2, object): ['Heinous', 'Non Heinous']"
      ]
     },
     "execution_count": 23,
     "metadata": {},
     "output_type": "execute_result"
    }
   ],
   "source": [
    "df['FIR Type'].unique()"
   ]
  },
  {
   "cell_type": "code",
   "execution_count": 24,
   "metadata": {
    "execution": {
     "iopub.execute_input": "2024-04-10T20:37:30.674852Z",
     "iopub.status.busy": "2024-04-10T20:37:30.674588Z",
     "iopub.status.idle": "2024-04-10T20:37:32.264662Z",
     "shell.execute_reply": "2024-04-10T20:37:32.263558Z",
     "shell.execute_reply.started": "2024-04-10T20:37:30.674828Z"
    }
   },
   "outputs": [
    {
     "name": "stdout",
     "output_type": "stream",
     "text": [
      "<class 'pandas.core.frame.DataFrame'>\n",
      "RangeIndex: 1694191 entries, 0 to 1694190\n",
      "Data columns (total 38 columns):\n",
      " #   Column                       Dtype         \n",
      "---  ------                       -----         \n",
      " 0   District_Name                category      \n",
      " 1   UnitName                     category      \n",
      " 2   RI                           int64         \n",
      " 3   Year                         int64         \n",
      " 4   Month                        int64         \n",
      " 5   Offence_From_Date            category      \n",
      " 6   Offence_To_Date              category      \n",
      " 7   FIR_Reg_DateTime             category      \n",
      " 8   FIR_Date                     datetime64[ns]\n",
      " 9   FIR Type                     category      \n",
      " 10  FIR_Stage                    category      \n",
      " 11  Complaint_Mode               category      \n",
      " 12  CrimeGroup_Name              category      \n",
      " 13  CrimeHead_Name               category      \n",
      " 14  Latitude                     float64       \n",
      " 15  Longitude                    float64       \n",
      " 16  ActSection                   category      \n",
      " 17  IOName                       object        \n",
      " 18  KGID                         category      \n",
      " 19  IOAssigned_Date              datetime64[ns]\n",
      " 20  Internal_IO                  int64         \n",
      " 21  Place of Offence             category      \n",
      " 22  Distance from PS             category      \n",
      " 23  Beat_Name                    category      \n",
      " 24  Village_Area_Name            category      \n",
      " 25  Male                         int64         \n",
      " 26  Female                       int64         \n",
      " 27  Boy                          int64         \n",
      " 28  Girl                         int64         \n",
      " 29  Age 0                        int64         \n",
      " 30  VICTIM COUNT                 int64         \n",
      " 31  Accused Count                int64         \n",
      " 32  Arrested Male                int64         \n",
      " 33  Arrested Female              int64         \n",
      " 34  Arrested Count\tNo.           int64         \n",
      " 35  Accused_ChargeSheeted Count  int64         \n",
      " 36  Conviction Count             int64         \n",
      " 37  FIR Type_encoded             int32         \n",
      "dtypes: category(16), datetime64[ns](2), float64(2), int32(1), int64(16), object(1)\n",
      "memory usage: 467.9+ MB\n"
     ]
    }
   ],
   "source": [
    "import pandas as pd\n",
    "from sklearn.preprocessing import LabelEncoder\n",
    "# Fill NaN values with the mode (most frequent value)\n",
    "mode = df['FIR Type'].mode()[0]  # Get the mode value\n",
    "df['FIR Type'].fillna(mode, inplace=True)  # Fill NaN with the mode\n",
    "\n",
    "# Label encode the 'FIR Type' column\n",
    "le = LabelEncoder()\n",
    "df['FIR Type_encoded'] = le.fit_transform(df['FIR Type'])\n",
    "\n",
    "# Print the updated DataFrame\n",
    "df.info()\n"
   ]
  },
  {
   "cell_type": "code",
   "execution_count": 25,
   "metadata": {
    "execution": {
     "iopub.execute_input": "2024-04-10T20:37:32.266744Z",
     "iopub.status.busy": "2024-04-10T20:37:32.266238Z",
     "iopub.status.idle": "2024-04-10T20:37:32.275226Z",
     "shell.execute_reply": "2024-04-10T20:37:32.274025Z",
     "shell.execute_reply.started": "2024-04-10T20:37:32.266713Z"
    }
   },
   "outputs": [
    {
     "data": {
      "text/plain": [
       "0           42900007\n",
       "1          123600010\n",
       "2          124000015\n",
       "3           42900007\n",
       "4           97500025\n",
       "             ...    \n",
       "1694186    158900500\n",
       "1694187    158900511\n",
       "1694188    158900511\n",
       "1694189    158900511\n",
       "1694190    158900459\n",
       "Name: Internal_IO, Length: 1694191, dtype: int64"
      ]
     },
     "execution_count": 25,
     "metadata": {},
     "output_type": "execute_result"
    }
   ],
   "source": [
    "df['Internal_IO']"
   ]
  },
  {
   "cell_type": "code",
   "execution_count": 26,
   "metadata": {
    "execution": {
     "iopub.execute_input": "2024-04-10T20:37:32.277022Z",
     "iopub.status.busy": "2024-04-10T20:37:32.276696Z",
     "iopub.status.idle": "2024-04-10T20:37:32.502228Z",
     "shell.execute_reply": "2024-04-10T20:37:32.500998Z",
     "shell.execute_reply.started": "2024-04-10T20:37:32.276996Z"
    }
   },
   "outputs": [
    {
     "name": "stdout",
     "output_type": "stream",
     "text": [
      "<class 'pandas.core.frame.DataFrame'>\n",
      "RangeIndex: 1694191 entries, 0 to 1694190\n",
      "Data columns (total 36 columns):\n",
      " #   Column                       Dtype         \n",
      "---  ------                       -----         \n",
      " 0   District_Name                category      \n",
      " 1   UnitName                     category      \n",
      " 2   RI                           int64         \n",
      " 3   Year                         int64         \n",
      " 4   Month                        int64         \n",
      " 5   Offence_From_Date            category      \n",
      " 6   Offence_To_Date              category      \n",
      " 7   FIR_Reg_DateTime             category      \n",
      " 8   FIR_Date                     datetime64[ns]\n",
      " 9   FIR_Stage                    category      \n",
      " 10  Complaint_Mode               category      \n",
      " 11  CrimeGroup_Name              category      \n",
      " 12  CrimeHead_Name               category      \n",
      " 13  Latitude                     float64       \n",
      " 14  Longitude                    float64       \n",
      " 15  ActSection                   category      \n",
      " 16  IOName                       object        \n",
      " 17  KGID                         category      \n",
      " 18  IOAssigned_Date              datetime64[ns]\n",
      " 19  Place of Offence             category      \n",
      " 20  Distance from PS             category      \n",
      " 21  Beat_Name                    category      \n",
      " 22  Village_Area_Name            category      \n",
      " 23  Male                         int64         \n",
      " 24  Female                       int64         \n",
      " 25  Boy                          int64         \n",
      " 26  Girl                         int64         \n",
      " 27  Age 0                        int64         \n",
      " 28  VICTIM COUNT                 int64         \n",
      " 29  Accused Count                int64         \n",
      " 30  Arrested Male                int64         \n",
      " 31  Arrested Female              int64         \n",
      " 32  Arrested Count\tNo.           int64         \n",
      " 33  Accused_ChargeSheeted Count  int64         \n",
      " 34  Conviction Count             int64         \n",
      " 35  FIR Type_encoded             int32         \n",
      "dtypes: category(15), datetime64[ns](2), float64(2), int32(1), int64(15), object(1)\n",
      "memory usage: 453.3+ MB\n"
     ]
    }
   ],
   "source": [
    "df.drop(['Internal_IO', 'FIR Type'], axis=1, inplace=True)\n",
    "df.info()"
   ]
  },
  {
   "cell_type": "code",
   "execution_count": 27,
   "metadata": {
    "execution": {
     "iopub.execute_input": "2024-04-10T20:37:32.503946Z",
     "iopub.status.busy": "2024-04-10T20:37:32.503541Z",
     "iopub.status.idle": "2024-04-10T20:37:32.521375Z",
     "shell.execute_reply": "2024-04-10T20:37:32.520207Z",
     "shell.execute_reply.started": "2024-04-10T20:37:32.503910Z"
    }
   },
   "outputs": [
    {
     "data": {
      "text/plain": [
       "array([ 0,  1,  8, 16,  2,  3,  6,  5,  4], dtype=int64)"
      ]
     },
     "execution_count": 27,
     "metadata": {},
     "output_type": "execute_result"
    }
   ],
   "source": [
    "df['VICTIM COUNT'].unique()"
   ]
  },
  {
   "cell_type": "code",
   "execution_count": 28,
   "metadata": {
    "execution": {
     "iopub.execute_input": "2024-04-10T20:37:32.527656Z",
     "iopub.status.busy": "2024-04-10T20:37:32.527303Z",
     "iopub.status.idle": "2024-04-10T20:37:32.544376Z",
     "shell.execute_reply": "2024-04-10T20:37:32.543213Z",
     "shell.execute_reply.started": "2024-04-10T20:37:32.527628Z"
    }
   },
   "outputs": [
    {
     "data": {
      "text/plain": [
       "array([ 0,  1,  3,  7,  2,  4, 12,  5, 11, 17, 10,  6,  9, 19, 20,  8, 15,\n",
       "       23, 29, 18, 16, 13, 24, 21, 30, 14, 41, 25, 22, 28, 27, 31, 37],\n",
       "      dtype=int64)"
      ]
     },
     "execution_count": 28,
     "metadata": {},
     "output_type": "execute_result"
    }
   ],
   "source": [
    "df['Age 0'].unique()"
   ]
  },
  {
   "cell_type": "code",
   "execution_count": 29,
   "metadata": {
    "execution": {
     "iopub.execute_input": "2024-04-10T20:37:32.546136Z",
     "iopub.status.busy": "2024-04-10T20:37:32.545814Z",
     "iopub.status.idle": "2024-04-10T20:37:32.562207Z",
     "shell.execute_reply": "2024-04-10T20:37:32.561285Z",
     "shell.execute_reply.started": "2024-04-10T20:37:32.546108Z"
    }
   },
   "outputs": [
    {
     "data": {
      "text/plain": [
       "array([ 0,  2,  1,  9,  4,  5, 11, 15,  7, 10,  8,  3,  6, 12, 19, 13, 14,\n",
       "       18, 16, 21, 20, 40, 24, 28, 17, 23, 22, 38, 26, 32, 41, 37, 58, 33,\n",
       "       35, 36, 27, 50, 29, 39, 31, 25, 30, 43, 34, 49, 42, 44, 74, 45],\n",
       "      dtype=int64)"
      ]
     },
     "execution_count": 29,
     "metadata": {},
     "output_type": "execute_result"
    }
   ],
   "source": [
    "df['Conviction Count'].unique()"
   ]
  },
  {
   "cell_type": "code",
   "execution_count": 30,
   "metadata": {
    "execution": {
     "iopub.execute_input": "2024-04-10T20:37:32.563966Z",
     "iopub.status.busy": "2024-04-10T20:37:32.563476Z",
     "iopub.status.idle": "2024-04-10T20:37:32.574465Z",
     "shell.execute_reply": "2024-04-10T20:37:32.573370Z",
     "shell.execute_reply.started": "2024-04-10T20:37:32.563924Z"
    }
   },
   "outputs": [
    {
     "data": {
      "text/plain": [
       "0            1898733\n",
       "1            1332599\n",
       "2            1270757\n",
       "3            1898733\n",
       "4            1820048\n",
       "             ...    \n",
       "1694186      1223959\n",
       "1694187    2282157.0\n",
       "1694188    2282157.0\n",
       "1694189    2282157.0\n",
       "1694190      1399013\n",
       "Name: KGID, Length: 1694191, dtype: category\n",
       "Categories (31011, object): [14, 114, 155, 184, ..., 'IPS67132', 'KGID 1121337', 'OO172', 'stps']"
      ]
     },
     "execution_count": 30,
     "metadata": {},
     "output_type": "execute_result"
    }
   ],
   "source": [
    "df['KGID']"
   ]
  },
  {
   "cell_type": "code",
   "execution_count": 31,
   "metadata": {
    "execution": {
     "iopub.execute_input": "2024-04-10T20:40:42.494482Z",
     "iopub.status.busy": "2024-04-10T20:40:42.494052Z",
     "iopub.status.idle": "2024-04-10T20:40:42.530551Z",
     "shell.execute_reply": "2024-04-10T20:40:42.529352Z",
     "shell.execute_reply.started": "2024-04-10T20:40:42.494451Z"
    }
   },
   "outputs": [
    {
     "name": "stdout",
     "output_type": "stream",
     "text": [
      "KGID\n",
      "1740099.0    12666\n",
      "1899022       3636\n",
      "2289480.0     2989\n",
      "1895581.0     2955\n",
      "2289991       2892\n",
      "             ...  \n",
      "1217448          1\n",
      "1217488.0        1\n",
      "1217539          1\n",
      "1217559          1\n",
      "1238614          1\n",
      "Name: count, Length: 31011, dtype: int64\n"
     ]
    }
   ],
   "source": [
    "n_unique_kgid = df['KGID'].value_counts()\n",
    "\n",
    "# Display the counts\n",
    "print(n_unique_kgid)"
   ]
  },
  {
   "cell_type": "code",
   "execution_count": 32,
   "metadata": {
    "execution": {
     "iopub.execute_input": "2024-04-10T20:37:32.576421Z",
     "iopub.status.busy": "2024-04-10T20:37:32.576000Z",
     "iopub.status.idle": "2024-04-10T20:37:32.587921Z",
     "shell.execute_reply": "2024-04-10T20:37:32.586908Z",
     "shell.execute_reply.started": "2024-04-10T20:37:32.576384Z"
    }
   },
   "outputs": [
    {
     "data": {
      "text/plain": [
       "0          RURAL BEAT NO 13\n",
       "1           RURAL BEAT NO 6\n",
       "2           RURAL BEAT NO 6\n",
       "3          RURAL BEAT NO 13\n",
       "4          RURAL BEAT NO 16\n",
       "                 ...       \n",
       "1694186           BEAT NO 1\n",
       "1694187           BEAT NO 2\n",
       "1694188           BEAT NO 5\n",
       "1694189           BEAT NO 1\n",
       "1694190           BEAT NO 2\n",
       "Name: Beat_Name, Length: 1694191, dtype: category\n",
       "Categories (6780, object): ['0', '0 BEAT', '00', '00 BEAT', ..., 'yjkhj', 'ykjhkj', 'z', 'zzzzzzzzz']"
      ]
     },
     "execution_count": 32,
     "metadata": {},
     "output_type": "execute_result"
    }
   ],
   "source": [
    "df['Beat_Name']"
   ]
  },
  {
   "cell_type": "code",
   "execution_count": 33,
   "metadata": {
    "execution": {
     "iopub.execute_input": "2024-04-10T20:37:32.589837Z",
     "iopub.status.busy": "2024-04-10T20:37:32.589404Z",
     "iopub.status.idle": "2024-04-10T20:37:32.596684Z",
     "shell.execute_reply": "2024-04-10T20:37:32.595542Z",
     "shell.execute_reply.started": "2024-04-10T20:37:32.589811Z"
    }
   },
   "outputs": [],
   "source": [
    "# import seaborn as sns\n",
    "# import matplotlib.pyplot as plt\n",
    "\n",
    "# # Get the counts of each beat name\n",
    "# beat_name_counts = df['Beat_Name'].value_counts()\n",
    "\n",
    "# # Create a countplot\n",
    "# sns.countplot(x=beat_name_counts.index, y=beat_name_counts.values)\n",
    "# plt.xticks(rotation=45)  # Rotate x-axis labels for readability with many categories\n",
    "# plt.xlabel(\"Beat Name\")\n",
    "# plt.ylabel(\"Number of Incidents\")\n",
    "# plt.title(\"Distribution of Incidents by Beat Name\")\n",
    "# plt.show()\n"
   ]
  },
  {
   "cell_type": "code",
   "execution_count": 34,
   "metadata": {
    "execution": {
     "iopub.execute_input": "2024-04-10T20:37:32.598169Z",
     "iopub.status.busy": "2024-04-10T20:37:32.597841Z",
     "iopub.status.idle": "2024-04-10T20:37:32.611111Z",
     "shell.execute_reply": "2024-04-10T20:37:32.610134Z",
     "shell.execute_reply.started": "2024-04-10T20:37:32.598137Z"
    }
   },
   "outputs": [
    {
     "data": {
      "text/plain": [
       "567"
      ]
     },
     "execution_count": 34,
     "metadata": {},
     "output_type": "execute_result"
    }
   ],
   "source": [
    "df['Distance from PS'].isnull().sum()"
   ]
  },
  {
   "cell_type": "code",
   "execution_count": 35,
   "metadata": {
    "execution": {
     "iopub.execute_input": "2024-04-10T21:27:13.753101Z",
     "iopub.status.busy": "2024-04-10T21:27:13.752259Z",
     "iopub.status.idle": "2024-04-10T21:27:14.102524Z",
     "shell.execute_reply": "2024-04-10T21:27:14.101399Z",
     "shell.execute_reply.started": "2024-04-10T21:27:13.753070Z"
    }
   },
   "outputs": [
    {
     "data": {
      "text/plain": [
       "0                   WEST FROM PS 12 KM\n",
       "1                    WEST FROM PS 2 KM\n",
       "2                    EAST FROM PS 3 KM\n",
       "3                   WEST FROM PS 14 KM\n",
       "4          NORTH FROM 24 KM TOWARDS PS\n",
       "                      ...             \n",
       "1694186      3 Km From Ps Towards East\n",
       "1694187     18 km From Ps Towards West\n",
       "1694188     26 km From Ps Towards East\n",
       "1694189      6 km From Ps Towards west\n",
       "1694190    Towards north 5 kms from ps\n",
       "Name: Distance from PS, Length: 1694191, dtype: category\n",
       "Categories (420130, object): ['! KM EAST', '! KM EAST TO PS', '! KM East Said', '! KM East To PS', ..., '½KM TOWARDS EAST TO PS.', 'Èast 1 Km From PS', 'Èast 10 Km From PS', 'Èast Side 5 km']"
      ]
     },
     "execution_count": 35,
     "metadata": {},
     "output_type": "execute_result"
    }
   ],
   "source": [
    "import pandas as pd\n",
    "import re\n",
    "\n",
    "def clean_distance(text):\n",
    "  \"\"\"\n",
    "  Clean the distance string, preserving numerical values and directions.\n",
    "\n",
    "  Args:\n",
    "      text: The text string from the 'Distance from PS' column.\n",
    "\n",
    "  Returns:\n",
    "      A tuple containing the cleaned distance (numerical) and direction,\n",
    "      or None for both if text is NaN or cleaning fails.\n",
    "  \"\"\"\n",
    "  if pd.isna(text):\n",
    "    return (None, None)  # Return None for both distance and direction if NaN\n",
    "  pattern = r\"(\\d+)\\s*([Kk]m)?\\s*(.*)(\\s*From Ps Towards\\s*.*)?$\"  # Improved regex pattern\n",
    "  match = re.search(pattern, text)\n",
    "  if match:\n",
    "    distance = int(match.group(1))  # Convert distance to integer\n",
    "    unit = match.group(2) or \"km\"  # Default to \"km\" if unit not found\n",
    "    direction = match.group(3).strip() or \"NA\"  # Default to \"NA\" if direction not found\n",
    "    return distance, direction\n",
    "  else:\n",
    "    return (None, text)  # Return None for distance and original text for direction if no match\n",
    "\n",
    "# Create a copy of the DataFrame to avoid modifying the original\n",
    "df_cleaned = df.copy()\n",
    "\n",
    "# Fill null values with mode of 'Distance from PS'\n",
    "mode_distance = df_cleaned['Distance from PS'].mode().iloc[0]  # Get the mode (most frequent value)\n",
    "df_cleaned['Distance from PS'].fillna(mode_distance, inplace=True)\n",
    "\n",
    "# Now you can use df_cleaned for further analysis\n",
    "df_cleaned['Distance from PS']"
   ]
  },
  {
   "cell_type": "code",
   "execution_count": 36,
   "metadata": {
    "execution": {
     "iopub.execute_input": "2024-04-10T22:09:32.533049Z",
     "iopub.status.busy": "2024-04-10T22:09:32.532656Z",
     "iopub.status.idle": "2024-04-10T22:09:48.935520Z",
     "shell.execute_reply": "2024-04-10T22:09:48.934373Z",
     "shell.execute_reply.started": "2024-04-10T22:09:32.533019Z"
    }
   },
   "outputs": [
    {
     "data": {
      "text/plain": [
       "0             WEST12 \n",
       "1              WEST2 \n",
       "2              EAST3 \n",
       "3             WEST14 \n",
       "4          NORTH 24  \n",
       "              ...    \n",
       "1694186        3 East\n",
       "1694187       18 West\n",
       "1694188       26 East\n",
       "1694189        6 west\n",
       "1694190      north 5 \n",
       "Name: Distance from PS, Length: 1694191, dtype: object"
      ]
     },
     "execution_count": 36,
     "metadata": {},
     "output_type": "execute_result"
    }
   ],
   "source": [
    "remove_strings = ['Km', ' From', ' Ps ', 'Towards ','PS','km','ps',' s','Towrds','for','TOWARSD','KW','ONE  TOWERDS','TOWARDSA',' P ','.   ','. K m ','For']\n",
    "patterns = [re.compile(s, flags=re.IGNORECASE) for s in remove_strings]  # Compile case-insensitive patterns\n",
    "\n",
    "# Clean the 'Distance from PS' column in the copy\n",
    "def clean_text(text):\n",
    "  for pattern in patterns:\n",
    "    text = pattern.sub('', text)  # Replace all occurrences of remove_strings (case-insensitive)\n",
    "  return text\n",
    "\n",
    "df_cleaned['Distance from PS'] = df_cleaned['Distance from PS'].apply(clean_text)\n",
    "df_cleaned['Distance from PS']"
   ]
  },
  {
   "cell_type": "code",
   "execution_count": 37,
   "metadata": {
    "execution": {
     "iopub.execute_input": "2024-04-10T22:09:48.943818Z",
     "iopub.status.busy": "2024-04-10T22:09:48.943445Z",
     "iopub.status.idle": "2024-04-10T22:09:49.130634Z",
     "shell.execute_reply": "2024-04-10T22:09:49.129489Z",
     "shell.execute_reply.started": "2024-04-10T22:09:48.943786Z"
    }
   },
   "outputs": [
    {
     "data": {
      "text/plain": [
       "0"
      ]
     },
     "execution_count": 37,
     "metadata": {},
     "output_type": "execute_result"
    }
   ],
   "source": [
    "df_cleaned['Distance from PS'].isnull().sum()"
   ]
  },
  {
   "cell_type": "code",
   "execution_count": 38,
   "metadata": {
    "execution": {
     "iopub.execute_input": "2024-04-10T22:09:49.134115Z",
     "iopub.status.busy": "2024-04-10T22:09:49.133386Z",
     "iopub.status.idle": "2024-04-10T22:09:55.426572Z",
     "shell.execute_reply": "2024-04-10T22:09:55.425545Z",
     "shell.execute_reply.started": "2024-04-10T22:09:49.134077Z"
    }
   },
   "outputs": [
    {
     "name": "stdout",
     "output_type": "stream",
     "text": [
      "        Distance from PS  distance_numerical\n",
      "0                WEST12                 12.0\n",
      "1                 WEST2                  2.0\n",
      "2                 EAST3                  3.0\n",
      "3                WEST14                 14.0\n",
      "4             NORTH 24                  24.0\n",
      "...                  ...                 ...\n",
      "1694186           3 East                 3.0\n",
      "1694187          18 West                18.0\n",
      "1694188          26 East                26.0\n",
      "1694189           6 west                 6.0\n",
      "1694190         north 5                  5.0\n",
      "\n",
      "[1694191 rows x 2 columns]\n"
     ]
    }
   ],
   "source": [
    "import pandas as pd\n",
    "import re\n",
    "\n",
    "def extract_numerical(text):\n",
    "  \"\"\"\n",
    "  Extracts numerical data from a text string.\n",
    "\n",
    "  Args:\n",
    "      text: The text string to extract numerical data from.\n",
    "\n",
    "  Returns:\n",
    "      The extracted numerical value as an integer, or None if no number is found.\n",
    "  \"\"\"\n",
    "  match = re.search(r'\\d+$', text)  # Removed (optional, for previous approach)\n",
    "  if not match:  # Check if no match with previous regex\n",
    "      match = re.search(r'(\\d+)', text)  # Match any digits in the string\n",
    "  if match:\n",
    "      return int(match.group())\n",
    "  else:\n",
    "      return None\n",
    "\n",
    "# Create a new column 'distance_numerical' to store extracted numerical values\n",
    "df_cleaned['distance_numerical'] = df_cleaned['Distance from PS'].apply(extract_numerical)\n",
    "\n",
    "# Drop rows with None values in 'distance_numerical' (optional)\n",
    "# df_cleaned.dropna(subset=['distance_numerical'], inplace=True)\n",
    "\n",
    "# Print the DataFrame (optional)\n",
    "print(df_cleaned[['Distance from PS', 'distance_numerical']])\n"
   ]
  },
  {
   "cell_type": "code",
   "execution_count": 39,
   "metadata": {
    "execution": {
     "iopub.execute_input": "2024-04-10T22:09:55.428132Z",
     "iopub.status.busy": "2024-04-10T22:09:55.427850Z",
     "iopub.status.idle": "2024-04-10T22:10:01.962072Z",
     "shell.execute_reply": "2024-04-10T22:10:01.961048Z",
     "shell.execute_reply.started": "2024-04-10T22:09:55.428108Z"
    }
   },
   "outputs": [
    {
     "name": "stdout",
     "output_type": "stream",
     "text": [
      "        Distance from PS  distance_numerical\n",
      "0                  WEST                   12\n",
      "1                  WEST                    2\n",
      "2                  EAST                    3\n",
      "3                  WEST                   14\n",
      "4               NORTH                     24\n",
      "...                  ...                 ...\n",
      "1694186             East                   3\n",
      "1694187             West                  18\n",
      "1694188             East                  26\n",
      "1694189             west                   6\n",
      "1694190          north                     5\n",
      "\n",
      "[1694191 rows x 2 columns]\n"
     ]
    }
   ],
   "source": [
    "pattern = r'[^\\D]+'  # Matches any non-digit character\n",
    "\n",
    "def remove_numerical(value):\n",
    "    if pd.notnull(value):\n",
    "        return re.sub(pattern, '', value)\n",
    "    else:\n",
    "        return value\n",
    "\n",
    "df_cleaned['Distance from PS'] = df_cleaned['Distance from PS'].apply(remove_numerical)\n",
    "df_cleaned['distance_numerical'] = df_cleaned['distance_numerical'].fillna(0).astype(int)\n",
    "\n",
    "print(df_cleaned[['Distance from PS', 'distance_numerical']])"
   ]
  },
  {
   "cell_type": "code",
   "execution_count": 40,
   "metadata": {
    "execution": {
     "iopub.execute_input": "2024-04-10T22:10:01.963704Z",
     "iopub.status.busy": "2024-04-10T22:10:01.963382Z",
     "iopub.status.idle": "2024-04-10T22:10:01.980567Z",
     "shell.execute_reply": "2024-04-10T22:10:01.979549Z",
     "shell.execute_reply.started": "2024-04-10T22:10:01.963678Z"
    }
   },
   "outputs": [
    {
     "name": "stdout",
     "output_type": "stream",
     "text": [
      "<class 'pandas.core.frame.DataFrame'>\n",
      "RangeIndex: 1694191 entries, 0 to 1694190\n",
      "Data columns (total 37 columns):\n",
      " #   Column                       Dtype         \n",
      "---  ------                       -----         \n",
      " 0   District_Name                category      \n",
      " 1   UnitName                     category      \n",
      " 2   RI                           int64         \n",
      " 3   Year                         int64         \n",
      " 4   Month                        int64         \n",
      " 5   Offence_From_Date            category      \n",
      " 6   Offence_To_Date              category      \n",
      " 7   FIR_Reg_DateTime             category      \n",
      " 8   FIR_Date                     datetime64[ns]\n",
      " 9   FIR_Stage                    category      \n",
      " 10  Complaint_Mode               category      \n",
      " 11  CrimeGroup_Name              category      \n",
      " 12  CrimeHead_Name               category      \n",
      " 13  Latitude                     float64       \n",
      " 14  Longitude                    float64       \n",
      " 15  ActSection                   category      \n",
      " 16  IOName                       object        \n",
      " 17  KGID                         category      \n",
      " 18  IOAssigned_Date              datetime64[ns]\n",
      " 19  Place of Offence             category      \n",
      " 20  Distance from PS             object        \n",
      " 21  Beat_Name                    category      \n",
      " 22  Village_Area_Name            category      \n",
      " 23  Male                         int64         \n",
      " 24  Female                       int64         \n",
      " 25  Boy                          int64         \n",
      " 26  Girl                         int64         \n",
      " 27  Age 0                        int64         \n",
      " 28  VICTIM COUNT                 int64         \n",
      " 29  Accused Count                int64         \n",
      " 30  Arrested Male                int64         \n",
      " 31  Arrested Female              int64         \n",
      " 32  Arrested Count\tNo.           int64         \n",
      " 33  Accused_ChargeSheeted Count  int64         \n",
      " 34  Conviction Count             int64         \n",
      " 35  FIR Type_encoded             int32         \n",
      " 36  distance_numerical           int32         \n",
      "dtypes: category(14), datetime64[ns](2), float64(2), int32(2), int64(15), object(2)\n",
      "memory usage: 446.9+ MB\n"
     ]
    }
   ],
   "source": [
    "df_cleaned.info()"
   ]
  },
  {
   "cell_type": "code",
   "execution_count": 41,
   "metadata": {
    "execution": {
     "iopub.execute_input": "2024-04-10T22:14:00.373992Z",
     "iopub.status.busy": "2024-04-10T22:14:00.373589Z",
     "iopub.status.idle": "2024-04-10T22:14:05.242265Z",
     "shell.execute_reply": "2024-04-10T22:14:05.241188Z",
     "shell.execute_reply.started": "2024-04-10T22:14:00.373961Z"
    }
   },
   "outputs": [],
   "source": [
    "# def clean_distance_string(distance):\n",
    "#     distance = distance.strip().upper()  # Convert to uppercase and remove leading/trailing spaces\n",
    "#     distance = distance.replace('OUTH', 'SOUTH')  # Replace 'OUTH' with 'SOUTH'\n",
    "#     distance = distance.replace('EAST', 'East')  # Replace 'EAST' with 'East'\n",
    "#     distance = distance.replace('WEST', 'West')  # Replace 'WEST' with 'West'\n",
    "#     distance = distance.replace('NORTH', 'North')  # Replace 'NORTH' with 'North'\n",
    "#     distance = distance.strip().upper()  # Convert to uppercase and remove leading/trailing spaces\n",
    "#     distance = distance.replace('THROUGH ONLINE', '')  # Remove 'THROUGH ONLINE'\n",
    "#     distance = distance.replace('.', '')  # Remove periods\n",
    "#     distance = distance.replace('TOWORDS', '')  # Remove 'TOWORDS'\n",
    "#     distance = distance.replace('TO', '')  # Remove 'TO'\n",
    "#     distance = distance.replace('UNDERSTAND', '')  # Remove 'UNDERSTAND'\n",
    "#     distance = distance.replace('SSSSOUTH', 'SOUTH')  # Replace 'SSSSOUTH' with 'SOUTH'\n",
    "#     distance = distance.replace('SSSOUTH', 'SOUTH')  # Replace 'SSSOUTH' with 'SOUTH'\n",
    "#     distance = distance.replace('SOUT', 'SOUTH')  # Replace 'SOUT' with 'SOUTH'\n",
    "#     distance = distance.replace('NORT', 'NORTH')  # Replace 'NORT' with 'NORTH'\n",
    "#     distance = distance.replace('EAS', 'EAST')  # Replace 'EAS' with 'EAST'\n",
    "#     distance = distance.replace('WES', 'WEST')  # Replace 'WES' with 'WEST'\n",
    "#     distance = distance.strip()  # Remove any additional spaces\n",
    "#     return distance\n",
    "\n",
    "# # Apply the function to clean the 'Distance from PS' column\n",
    "# df_cleaned['Distance from PS'] = df_cleaned['Distance from PS'].apply(clean_distance_string)\n",
    "\n",
    "# # Count occurrences of each unique value after cleaning\n",
    "# value_counts = df_cleaned['Distance from PS'].value_counts()\n",
    "\n",
    "# # Print the least repeated values after cleaning\n",
    "# print(\"Least repeated values after cleaning:\")\n",
    "# print(value_counts.head(30))\n"
   ]
  },
  {
   "cell_type": "code",
   "execution_count": 46,
   "metadata": {},
   "outputs": [],
   "source": [
    "# pip install fuzzywuzzy\n",
    "import warnings\n",
    "warnings.filterwarnings('ignore')"
   ]
  },
  {
   "cell_type": "code",
   "execution_count": null,
   "metadata": {},
   "outputs": [],
   "source": [
    "from fuzzywuzzy import process\n",
    "\n",
    "# Define a list of expected directions\n",
    "expected_directions = ['EAST', 'WEST', 'NORTH', 'SOUTH']\n",
    "\n",
    "# Function to clean and standardize the strings\n",
    "def clean_distance_string(distance):\n",
    "    distance = distance.strip().upper()  # Convert to uppercase and remove leading/trailing spaces\n",
    "    \n",
    "    # If the distance is empty, return it directly\n",
    "    if not distance:\n",
    "        return distance\n",
    "    \n",
    "    # Use fuzzy matching to find the closest expected direction\n",
    "    closest_match = process.extractOne(distance, expected_directions)\n",
    "    \n",
    "    # If the similarity score is above a certain threshold (e.g., 80), replace the value\n",
    "    if closest_match[1] >= 80:\n",
    "        return closest_match[0]\n",
    "    \n",
    "    # If no close match found, return the original value\n",
    "    return distance\n",
    "\n",
    "# Apply the function to clean the 'Distance from PS' column\n",
    "df_cleaned['Distance from PS'] = df_cleaned['Distance from PS'].apply(clean_distance_string)\n",
    "\n",
    "# Count occurrences of each unique value after cleaning\n",
    "value_counts = df_cleaned['Distance from PS'].value_counts()\n",
    "\n",
    "# Print the least repeated values after cleaning\n",
    "print(\"Least repeated values after fuzzy string matching:\")\n",
    "print(value_counts.head())\n"
   ]
  },
  {
   "cell_type": "code",
   "execution_count": 47,
   "metadata": {},
   "outputs": [
    {
     "name": "stdout",
     "output_type": "stream",
     "text": [
      "Least repeated values after simple extraction:\n",
      "Distance from PS\n",
      "E HOSURU VILLAGE  OUTH    1\n",
      "K.M TO WARDS  OUTH        1\n",
      "STATION GROUND            1\n",
      "HANDRED METER NORTT       1\n",
      "HALF KILOMETER OUTH       1\n",
      "Name: count, dtype: int64\n"
     ]
    }
   ],
   "source": [
    "import pandas as pd\n",
    "import re\n",
    "\n",
    "# Define a regular expression pattern to match the basic directions\n",
    "direction_pattern = r'\\b(EAST|WEST|NORTH|SOUTH)\\b'\n",
    "\n",
    "# Function to extract the basic directions\n",
    "def extract_basic_direction(distance):\n",
    "    match = re.search(direction_pattern, distance.upper())  # Case-insensitive match\n",
    "    if match:\n",
    "        return match.group(1)  # Extract the direction\n",
    "    else:\n",
    "        return distance  # Return the original value if no match found\n",
    "\n",
    "# Apply the function to the 'Distance from PS' column\n",
    "df_cleaned['Distance from PS'] = df_cleaned['Distance from PS'].apply(extract_basic_direction)\n",
    "\n",
    "# Count occurrences of each unique value after cleaning\n",
    "value_counts = df_cleaned['Distance from PS'].value_counts()\n",
    "\n",
    "# Print the least repeated values after cleaning\n",
    "print(\"Least repeated values after simple extraction:\")\n",
    "print(value_counts.tail())\n"
   ]
  },
  {
   "cell_type": "code",
   "execution_count": 48,
   "metadata": {},
   "outputs": [],
   "source": [
    "# Remove column 'RI' from df_cleaned\n",
    "df_cleaned.drop(columns=['RI'], inplace=True)\n",
    "\n",
    "# Reduce data types for 'Year' and 'Month'\n",
    "df_cleaned['Year'] = df_cleaned['Year'].astype('int16')  # int16 can accommodate up to 32767\n",
    "df_cleaned['Month'] = df_cleaned['Month'].astype('int8')  # int8 can accommodate up to 127\n",
    "\n",
    "# Reduce data types for 'Male', 'Female', 'Boy', 'Girl', 'Age 0', 'VICTIM COUNT', 'Accused Count', 'Arrested Male', 'Arrested Female'\n",
    "columns_to_reduce = ['Male', 'Female', 'Boy', 'Girl', 'Age 0', 'VICTIM COUNT', 'Accused Count', 'Arrested Male', 'Arrested Female']\n",
    "for column in columns_to_reduce:\n",
    "    max_value = df_cleaned[column].max()\n",
    "    if max_value <= 127:  # Use int8 if max value fits within its range\n",
    "        df_cleaned[column] = df_cleaned[column].astype('int8')\n",
    "    elif max_value <= 32767:  # Use int16 if max value fits within its range\n",
    "        df_cleaned[column] = df_cleaned[column].astype('int16')\n",
    "    elif max_value <= 2147483647:  # Use int32 if max value fits within its range\n",
    "        df_cleaned[column] = df_cleaned[column].astype('int32')\n",
    "    else:\n",
    "        df_cleaned[column] = df_cleaned[column].astype('int64')  # Default to int64 if max value exceeds int32 range\n"
   ]
  },
  {
   "cell_type": "code",
   "execution_count": null,
   "metadata": {},
   "outputs": [],
   "source": [
    "import ydata_profiling\n",
    "\n",
    "# Generate the data profile report\n",
    "profile = ydata_profiling.ProfileReport(df_cleaned, title=\"FIR Insights\")\n",
    "\n",
    "# Save the report to an HTML file\n",
    "profile.to_file(\"Accident_FIR.html\")\n",
    "\n",
    "# Display the report in Jupyter Notebook\n",
    "profile.to_notebook_iframe()\n"
   ]
  },
  {
   "cell_type": "code",
   "execution_count": null,
   "metadata": {},
   "outputs": [],
   "source": []
  },
  {
   "cell_type": "code",
   "execution_count": null,
   "metadata": {},
   "outputs": [],
   "source": []
  }
 ],
 "metadata": {
  "kaggle": {
   "accelerator": "gpu",
   "dataSources": [
    {
     "datasetId": 4748181,
     "sourceId": 8051472,
     "sourceType": "datasetVersion"
    }
   ],
   "dockerImageVersionId": 30683,
   "isGpuEnabled": true,
   "isInternetEnabled": true,
   "language": "python",
   "sourceType": "notebook"
  },
  "kernelspec": {
   "display_name": "Python 3 (ipykernel)",
   "language": "python",
   "name": "python3"
  },
  "language_info": {
   "codemirror_mode": {
    "name": "ipython",
    "version": 3
   },
   "file_extension": ".py",
   "mimetype": "text/x-python",
   "name": "python",
   "nbconvert_exporter": "python",
   "pygments_lexer": "ipython3",
   "version": "3.10.0"
  },
  "widgets": {
   "application/vnd.jupyter.widget-state+json": {
    "state": {},
    "version_major": 2,
    "version_minor": 0
   }
  }
 },
 "nbformat": 4,
 "nbformat_minor": 4
}
